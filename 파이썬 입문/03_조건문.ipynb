{
 "cells": [
  {
   "cell_type": "markdown",
   "metadata": {},
   "source": [
    "# 조건문"
   ]
  },
  {
   "cell_type": "code",
   "execution_count": 3,
   "metadata": {},
   "outputs": [
    {
     "name": "stdout",
     "output_type": "stream",
     "text": [
      "정수 입력> -3\n"
     ]
    }
   ],
   "source": [
    "# 양수판별\n",
    "n = int(input('정수 입력> '))"
   ]
  },
  {
   "cell_type": "code",
   "execution_count": 1,
   "metadata": {},
   "outputs": [
    {
     "ename": "NameError",
     "evalue": "name 'n' is not defined",
     "output_type": "error",
     "traceback": [
      "\u001b[1;31m---------------------------------------------------------------------------\u001b[0m",
      "\u001b[1;31mNameError\u001b[0m                                 Traceback (most recent call last)",
      "\u001b[1;32m<ipython-input-1-83a160805473>\u001b[0m in \u001b[0;36m<module>\u001b[1;34m\u001b[0m\n\u001b[1;32m----> 1\u001b[1;33m \u001b[1;32mif\u001b[0m \u001b[0mn\u001b[0m \u001b[1;33m>\u001b[0m \u001b[1;36m0\u001b[0m\u001b[1;33m:\u001b[0m\u001b[1;33m\u001b[0m\u001b[1;33m\u001b[0m\u001b[0m\n\u001b[0m\u001b[0;32m      2\u001b[0m     \u001b[0mprint\u001b[0m\u001b[1;33m(\u001b[0m\u001b[1;34m'%d은/는 양수입니다.'\u001b[0m  \u001b[1;33m%\u001b[0m \u001b[0mn\u001b[0m\u001b[1;33m)\u001b[0m\u001b[1;33m\u001b[0m\u001b[1;33m\u001b[0m\u001b[0m\n\u001b[0;32m      3\u001b[0m \u001b[1;32melse\u001b[0m\u001b[1;33m:\u001b[0m\u001b[1;33m\u001b[0m\u001b[1;33m\u001b[0m\u001b[0m\n\u001b[0;32m      4\u001b[0m     \u001b[0mprint\u001b[0m\u001b[1;33m(\u001b[0m\u001b[1;34m'%d은/는 0또는 음수입니다.'\u001b[0m  \u001b[1;33m%\u001b[0m \u001b[0mn\u001b[0m\u001b[1;33m)\u001b[0m\u001b[1;33m\u001b[0m\u001b[1;33m\u001b[0m\u001b[0m\n",
      "\u001b[1;31mNameError\u001b[0m: name 'n' is not defined"
     ]
    }
   ],
   "source": [
    "if n > 0:\n",
    "    print('%d은/는 양수입니다.'  % n)\n",
    "else:\n",
    "    print('%d은/는 0또는 음수입니다.'  % n)"
   ]
  },
  {
   "cell_type": "code",
   "execution_count": 2,
   "metadata": {},
   "outputs": [
    {
     "name": "stdout",
     "output_type": "stream",
     "text": [
      "필기 성적> 85\n",
      "실기 성적> 75\n"
     ]
    }
   ],
   "source": [
    "# 논리 곱\n",
    "score1 = int(input('필기 성적> '))\n",
    "score2 = int(input('실기 성적> '))"
   ]
  },
  {
   "cell_type": "code",
   "execution_count": 4,
   "metadata": {},
   "outputs": [
    {
     "name": "stdout",
     "output_type": "stream",
     "text": [
      "불합격!\n"
     ]
    }
   ],
   "source": [
    "if (score1 >=80) and (score2 >= 80):\n",
    "    print('합격!')\n",
    "else:\n",
    "    print('불합격!')"
   ]
  },
  {
   "cell_type": "code",
   "execution_count": 8,
   "metadata": {},
   "outputs": [
    {
     "name": "stdout",
     "output_type": "stream",
     "text": [
      "이름 입력> james\n"
     ]
    }
   ],
   "source": [
    "# 논리 부정\n",
    "name = None\n",
    "name = input('이름 입력> ')"
   ]
  },
  {
   "cell_type": "code",
   "execution_count": 9,
   "metadata": {},
   "outputs": [
    {
     "name": "stdout",
     "output_type": "stream",
     "text": [
      "입력된 이름: james\n"
     ]
    }
   ],
   "source": [
    "if not name:\n",
    "    print('이름이 입력되지 않았음.')\n",
    "else:\n",
    "    print('입력된 이름: %s' % name)"
   ]
  },
  {
   "cell_type": "code",
   "execution_count": 14,
   "metadata": {},
   "outputs": [
    {
     "name": "stdout",
     "output_type": "stream",
     "text": [
      "정수 입력> 5\n"
     ]
    }
   ],
   "source": [
    "# 양수, 0, 음수 판별\n",
    "n = int(input('정수 입력> '))"
   ]
  },
  {
   "cell_type": "code",
   "execution_count": 15,
   "metadata": {},
   "outputs": [
    {
     "name": "stdout",
     "output_type": "stream",
     "text": [
      "5은/는 양수입니다.\n"
     ]
    }
   ],
   "source": [
    "if n > 0:\n",
    "    print('%d은/는 양수입니다.'  % n)\n",
    "elif n == 0:\n",
    "    print('0입니다')\n",
    "else:\n",
    "    print('%d은/는 0또는 음수입니다.'  % n)"
   ]
  },
  {
   "cell_type": "code",
   "execution_count": 25,
   "metadata": {},
   "outputs": [
    {
     "name": "stdout",
     "output_type": "stream",
     "text": [
      "점수> 75\n"
     ]
    }
   ],
   "source": [
    "score = int(input('점수> '))"
   ]
  },
  {
   "cell_type": "code",
   "execution_count": 28,
   "metadata": {},
   "outputs": [],
   "source": [
    "if score >= 90:\n",
    "    grade = 'a'\n",
    "elif score >= 80:\n",
    "    grade = 'b'\n",
    "elif score >= 70:\n",
    "    grade = 'c'\n",
    "elif score >= 60:\n",
    "    grade = 'd'\n",
    "elif score >= 50:\n",
    "    grade = 'f'"
   ]
  },
  {
   "cell_type": "code",
   "execution_count": 30,
   "metadata": {},
   "outputs": [
    {
     "name": "stdout",
     "output_type": "stream",
     "text": [
      "75 c\n"
     ]
    }
   ],
   "source": [
    "print (score, grade)"
   ]
  },
  {
   "cell_type": "code",
   "execution_count": null,
   "metadata": {},
   "outputs": [],
   "source": [
    "# 세 수의 합과 평균\n",
    "x = int(input('숫자> '))\n",
    "y = int(input('숫자> '))\n",
    "z = int(input('숫자> '))"
   ]
  },
  {
   "cell_type": "code",
   "execution_count": 31,
   "metadata": {},
   "outputs": [
    {
     "name": "stdout",
     "output_type": "stream",
     "text": [
      "세개의 숫자 입력45 89 38\n"
     ]
    }
   ],
   "source": [
    "x, y, z = input('세개의 숫자 입력').split()"
   ]
  },
  {
   "cell_type": "code",
   "execution_count": 32,
   "metadata": {},
   "outputs": [
    {
     "name": "stdout",
     "output_type": "stream",
     "text": [
      "45 89 38\n"
     ]
    }
   ],
   "source": [
    "print(x, y, z)"
   ]
  },
  {
   "cell_type": "code",
   "execution_count": 33,
   "metadata": {},
   "outputs": [
    {
     "data": {
      "text/plain": [
       "('45', '89', '38')"
      ]
     },
     "execution_count": 33,
     "metadata": {},
     "output_type": "execute_result"
    }
   ],
   "source": [
    "x, y, z"
   ]
  },
  {
   "cell_type": "code",
   "execution_count": 34,
   "metadata": {},
   "outputs": [
    {
     "data": {
      "text/plain": [
       "(45, 89, 38)"
      ]
     },
     "execution_count": 34,
     "metadata": {},
     "output_type": "execute_result"
    }
   ],
   "source": [
    "int(x), int(y), int(z)"
   ]
  },
  {
   "cell_type": "code",
   "execution_count": 35,
   "metadata": {},
   "outputs": [
    {
     "name": "stdout",
     "output_type": "stream",
     "text": [
      "세개의 숫자 입력35 56 78\n"
     ]
    },
    {
     "data": {
      "text/plain": [
       "(35, 56, 78)"
      ]
     },
     "execution_count": 35,
     "metadata": {},
     "output_type": "execute_result"
    }
   ],
   "source": [
    "x, y, z = map(int, input('세개의 숫자 입력').split())\n",
    "x, y, z"
   ]
  },
  {
   "cell_type": "code",
   "execution_count": 36,
   "metadata": {},
   "outputs": [
    {
     "data": {
      "text/plain": [
       "(169, 56.333333333333336)"
      ]
     },
     "execution_count": 36,
     "metadata": {},
     "output_type": "execute_result"
    }
   ],
   "source": [
    "sum = x + y + z\n",
    "avg = sum / 3\n",
    "sum, avg"
   ]
  },
  {
   "cell_type": "code",
   "execution_count": 37,
   "metadata": {},
   "outputs": [],
   "source": [
    "# 만 나이 계산\n",
    "current_year = 2020\n",
    "current_month = 8\n",
    "current_day = 28"
   ]
  },
  {
   "cell_type": "code",
   "execution_count": 56,
   "metadata": {},
   "outputs": [
    {
     "name": "stdout",
     "output_type": "stream",
     "text": [
      "생일 입력> 2000 8 27\n"
     ]
    },
    {
     "data": {
      "text/plain": [
       "(2000, 8, 27)"
      ]
     },
     "execution_count": 56,
     "metadata": {},
     "output_type": "execute_result"
    }
   ],
   "source": [
    "birth_year, birth_month, birth_day = map(int, input('생일 입력> ').split())\n",
    "birth_year, birth_month, birth_day "
   ]
  },
  {
   "cell_type": "code",
   "execution_count": 57,
   "metadata": {},
   "outputs": [],
   "source": [
    "if current_month > birth_month:\n",
    "    age = current_year - birth_year\n",
    "elif current_month < birth_month:\n",
    "    age = current_year - birth_year - 1\n",
    "elif current_day < birth_day:\n",
    "    age = current_year - birth_year - 1\n",
    "else:\n",
    "    age = current_year - birth_year"
   ]
  },
  {
   "cell_type": "code",
   "execution_count": 58,
   "metadata": {},
   "outputs": [
    {
     "data": {
      "text/plain": [
       "20"
      ]
     },
     "execution_count": 58,
     "metadata": {},
     "output_type": "execute_result"
    }
   ],
   "source": [
    "age"
   ]
  },
  {
   "cell_type": "code",
   "execution_count": 61,
   "metadata": {},
   "outputs": [
    {
     "name": "stdout",
     "output_type": "stream",
     "text": [
      "20\n"
     ]
    }
   ],
   "source": [
    "if current_month > birth_month:                      # 현재월 > 생월\n",
    "    age = current_year - birth_year\n",
    "elif current_month < birth_month:                   # 현재월 < 생월\n",
    "    age = current_year - birth_year - 1\n",
    "else:                                               # 현재월 == 생월\n",
    "    if current_day < birth_day:                       # 현재일 < 생일\n",
    "        age = current_year - birth_year - 1\n",
    "    else:                                               # 현재일 >= 생일\n",
    "        age = current_year - birth_year\n",
    "    \n",
    "print(age)"
   ]
  },
  {
   "cell_type": "code",
   "execution_count": 64,
   "metadata": {},
   "outputs": [
    {
     "data": {
      "text/plain": [
       "datetime.datetime(2020, 8, 28, 11, 16, 45, 719065)"
      ]
     },
     "execution_count": 64,
     "metadata": {},
     "output_type": "execute_result"
    }
   ],
   "source": [
    "# 파이썬 datelime 모듈 활용\n",
    "import datetime\n",
    "datetime.datetime.now()"
   ]
  },
  {
   "cell_type": "code",
   "execution_count": 65,
   "metadata": {},
   "outputs": [
    {
     "data": {
      "text/plain": [
       "(2020, 8, 28)"
      ]
     },
     "execution_count": 65,
     "metadata": {},
     "output_type": "execute_result"
    }
   ],
   "source": [
    "current_year = datetime.datetime.now().year\n",
    "current_month = datetime.datetime.now().month\n",
    "current_day = datetime.datetime.now().day\n",
    "current_year,current_month,current_day"
   ]
  },
  {
   "cell_type": "code",
   "execution_count": null,
   "metadata": {},
   "outputs": [],
   "source": [
    "birth_year, birth_month, birth_day = map(int, input('생일 입력> ').split())\n",
    "birth_year, birth_month, birth_day "
   ]
  },
  {
   "cell_type": "code",
   "execution_count": null,
   "metadata": {},
   "outputs": [],
   "source": [
    "if current_month > birth_month:                      # 현재월 > 생월\n",
    "    age = current_year - birth_year\n",
    "elif current_month < birth_month:                   # 현재월 < 생월\n",
    "    age = current_year - birth_year - 1\n",
    "else:                                               # 현재월 == 생월\n",
    "    if current_day < birth_day:                       # 현재일 < 생일\n",
    "        age = current_year - birth_year - 1\n",
    "    else:                                               # 현재일 >= 생일\n",
    "        age = current_year - birth_year\n",
    "    \n",
    "print(age)"
   ]
  },
  {
   "cell_type": "code",
   "execution_count": 5,
   "metadata": {},
   "outputs": [
    {
     "name": "stdout",
     "output_type": "stream",
     "text": [
      "생일 6자리 숫자> 19911224\n"
     ]
    },
    {
     "data": {
      "text/plain": [
       "(2019, 91, 1224)"
      ]
     },
     "execution_count": 5,
     "metadata": {},
     "output_type": "execute_result"
    }
   ],
   "source": [
    "# 생일 6자리 숫자로 받아서 처리하기\n",
    "birthday = input('생일 6자리 숫자> ')    \n",
    "b_year = int(birthday[:2])\n",
    "if b_year <= 20:\n",
    "    b_year += 2000\n",
    "else:\n",
    "    b_year += 1900\n",
    "b_month = int(birthday[2:4])\n",
    "b_day = int(birthday[4:])\n",
    "b_year, b_month, b_day"
   ]
  },
  {
   "cell_type": "code",
   "execution_count": 6,
   "metadata": {},
   "outputs": [
    {
     "name": "stdout",
     "output_type": "stream",
     "text": [
      "생일(6, 7, 8리 숫자)> 19911018\n",
      "1991 10 18\n"
     ]
    }
   ],
   "source": [
    "# 생일 임의의 연속된 숫자로 받아서 처리하기\n",
    "birthday = input('생일(6, 7, 8리 숫자)> ')\n",
    "if len(birthday) == 6:\n",
    "    b_year = int(birthday[:2])\n",
    "    if b_year <= 20:\n",
    "        b_year += 2000\n",
    "    else:\n",
    "        b_year += 1900\n",
    "        b_month = int(birthday[2:4])\n",
    "        b_day = int(birthday[4:])\n",
    "    \n",
    "elif len(birthday)  == 7:\n",
    "    b_year = int(birthday[:2])\n",
    "    if int(birthday-1) > 2:\n",
    "        b_year += 2000\n",
    "    else:\n",
    "        b_year += 1900\n",
    "    b_month = int(birthday[2:4])\n",
    "    b_day = int(birthday[4:6])\n",
    "elif len(birthday) == 8:\n",
    "    b_year = int(birthday[:4])\n",
    "    b_month = int(birthday[4:6])\n",
    "    b_day = int(birthday[6:8])\n",
    "else:\n",
    "    print('6 ~ 8자리의 숫자를 입력하세요')\n",
    "    \n",
    "print(b_year, b_month, b_day)"
   ]
  },
  {
   "cell_type": "code",
   "execution_count": 19,
   "metadata": {},
   "outputs": [
    {
     "name": "stdout",
     "output_type": "stream",
     "text": [
      "월을 입력하세요:12\n",
      " 12 월은 겨울입니다.\n"
     ]
    }
   ],
   "source": [
    "# 구문으로 월을 입력받아 계절 표시하기\n",
    "\n",
    "month = int(input('월을 입력하세요:'))\n",
    "if month >= 3 and month <= 5:\n",
    "    print(' %d 월은 봄입니다.'% month)\n",
    "\n",
    "if month >= 6 and month <= 8:\n",
    "    print(' %d 월은 여름입니다.'% month)\n",
    "    \n",
    "if month >= 9 and month <= 11:\n",
    "    print(' %d 월은 가을입니다.'% month)\n",
    "\n",
    "if month == 12 or month == 1 or month ==2:\n",
    "    print(' %d 월은 겨울입니다.'% month)"
   ]
  },
  {
   "cell_type": "code",
   "execution_count": 28,
   "metadata": {},
   "outputs": [
    {
     "name": "stdout",
     "output_type": "stream",
     "text": [
      "좌석 종류를 입력해 주세요(1:일반실, 2:특실):1\n",
      "일반실입니다.\n"
     ]
    }
   ],
   "source": [
    "a = input('좌석 종류를 입력해 주세요(1:일반실, 2:특실):')\n",
    "\n",
    "seat1 = '일반실'\n",
    "seat2 = '특실'\n",
    "\n",
    "if a== '1':\n",
    "    print('%s입니다.' % seat1)\n",
    "if a== '2':\n",
    "    print('%s입니다.' % seat2)"
   ]
  },
  {
   "cell_type": "code",
   "execution_count": 35,
   "metadata": {},
   "outputs": [
    {
     "name": "stdout",
     "output_type": "stream",
     "text": [
      "영어 알파벳을 입력하세요:a\n",
      "A은(는)모음이다.\n"
     ]
    }
   ],
   "source": [
    "char = input('영어 알파벳을 입력하세요:')\n",
    "char2 = char.upper()\n",
    "\n",
    "if char2=='A'or char2=='E' or char2 =='I' or char2 == 'O' or char2 =='U':\n",
    "    print('%s은(는)모음이다.' %char2) \n",
    "else:\n",
    "    print('%s은(는) 자음이다.' %char2)"
   ]
  },
  {
   "cell_type": "code",
   "execution_count": 37,
   "metadata": {},
   "outputs": [
    {
     "name": "stdout",
     "output_type": "stream",
     "text": [
      "키는 입력해 주세요160\n",
      "몸무게를 입력해 주세요:56\n",
      "------------------------------\n",
      "키:160cm\n",
      "몸무게:56kg\n",
      "딱 보기 좋습니다.\n",
      "------------------------------\n"
     ]
    }
   ],
   "source": [
    "height=int(input('키는 입력해 주세요'))\n",
    "weight=int(input('몸무게를 입력해 주세요:'))\n",
    "a = (height-100)*0.9;\n",
    "print('-'*30)\n",
    "print('키:%dcm' %height)\n",
    "print('몸무게:%dkg' %weight)\n",
    "\n",
    "\n",
    "if weight > a:\n",
    "    print('딱 보기 좋습니다.')\n",
    "else:\n",
    "    print('표준(또는 마른)체형입니다.')\n",
    "    \n",
    "print('-'*30)"
   ]
  },
  {
   "cell_type": "code",
   "execution_count": 41,
   "metadata": {},
   "outputs": [
    {
     "name": "stdout",
     "output_type": "stream",
     "text": [
      "물건 구매가를 입력하세요:60000\n",
      "구매가 : 60000원\n",
      "할인율 : 7.5원\n",
      "할인 금액 : 4500원\n",
      "구매가 : 55500원\n"
     ]
    }
   ],
   "source": [
    "buy = int(input('물건 구매가를 입력하세요:'))\n",
    "\n",
    "if buy >= 10000 and buy <50000:\n",
    "    rate = 5\n",
    "elif buy >= 50000 and buy <300000:\n",
    "    rate = 7.5\n",
    "elif buy >= 300000:\n",
    "    rate = 10\n",
    "else:\n",
    "    rate = 0\n",
    "discount = buy*rate/100\n",
    "pay = buy - discount\n",
    "\n",
    "print('구매가 : %.0f원' % buy)\n",
    "print('할인율 : %.1f원' % rate)\n",
    "print('할인 금액 : %.0f원' % discount)\n",
    "print('구매가 : %.0f원' % pay)"
   ]
  },
  {
   "cell_type": "code",
   "execution_count": 49,
   "metadata": {
    "scrolled": true
   },
   "outputs": [
    {
     "name": "stdout",
     "output_type": "stream",
     "text": [
      "첫 번째 정수를 입력하세요:34\n",
      "두 번째 정수를 입력하세요:33\n",
      "세 번째 정수를 입력하세요:27\n",
      "입력된 세 수 34, 33, 27 중에서 가장 큰 수는 34 입니다.\n"
     ]
    }
   ],
   "source": [
    "num1 = int(input('첫 번째 정수를 입력하세요:'))\n",
    "num2 = int(input('두 번째 정수를 입력하세요:'))\n",
    "num3 = int(input('세 번째 정수를 입력하세요:'))\n",
    "\n",
    "if(num1>=num2)and(num1>=num3):\n",
    "    largest = num1\n",
    "elif(num2>=num1)and(num2>=num3):\n",
    "    largest = num2\n",
    "else:\n",
    "    largest = num3\n",
    "print('입력된 세 수 %d, %d, %d 중에서 가장 큰 수는 %d 입니다.'%(num1,num2,num3,largest))"
   ]
  },
  {
   "cell_type": "code",
   "execution_count": 2,
   "metadata": {},
   "outputs": [
    {
     "name": "stdout",
     "output_type": "stream",
     "text": [
      "서비스 만족도를 입력해주세요(예: 1또는 2또는 3):1\n",
      "음식값을 입력해 주세요(예:8000):5000\n",
      "서비스 만족도: 매우 만족, 팁:1000원\n"
     ]
    }
   ],
   "source": [
    "a = input('서비스 만족도를 입력해주세요(예: 1또는 2또는 3):')\n",
    "price = int(input('음식값을 입력해 주세요(예:8000):'))\n",
    "\n",
    "if int(a)==1:\n",
    "    tip = int(price*0.2)\n",
    "    service = '매우 만족'\n",
    "elif int(a)==2:\n",
    "    tip = int(price*0.1)\n",
    "    service = '만족'\n",
    "else:\n",
    "    tip = int(price*0.05)\n",
    "    service = '불만족'\n",
    "print('서비스 만족도: %s, 팁:%d원' %(service,tip))"
   ]
  },
  {
   "cell_type": "code",
   "execution_count": null,
   "metadata": {},
   "outputs": [],
   "source": []
  }
 ],
 "metadata": {
  "kernelspec": {
   "display_name": "Python 3",
   "language": "python",
   "name": "python3"
  },
  "language_info": {
   "codemirror_mode": {
    "name": "ipython",
    "version": 3
   },
   "file_extension": ".py",
   "mimetype": "text/x-python",
   "name": "python",
   "nbconvert_exporter": "python",
   "pygments_lexer": "ipython3",
   "version": "3.8.3"
  }
 },
 "nbformat": 4,
 "nbformat_minor": 4
}

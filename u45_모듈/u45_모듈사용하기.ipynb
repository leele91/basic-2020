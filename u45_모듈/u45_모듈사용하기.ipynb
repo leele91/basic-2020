{
 "metadata": {
  "language_info": {
   "codemirror_mode": {
    "name": "ipython",
    "version": 3
   },
   "file_extension": ".py",
   "mimetype": "text/x-python",
   "name": "python",
   "nbconvert_exporter": "python",
   "pygments_lexer": "ipython3",
   "version": "3.8.3-final"
  },
  "orig_nbformat": 2,
  "kernelspec": {
   "name": "Python 3.8.3 64-bit (conda)",
   "display_name": "Python 3.8.3 64-bit (conda)",
   "metadata": {
    "interpreter": {
     "hash": "b3ba2566441a7c06988d0923437866b63cedc61552a5af99d1f4fb67d367b25f"
    }
   }
  }
 },
 "nbformat": 4,
 "nbformat_minor": 2,
 "cells": [
  {
   "source": [
    "# Unit 45. 모듈과 패키지 만들기"
   ],
   "cell_type": "markdown",
   "metadata": {}
  },
  {
   "cell_type": "code",
   "execution_count": 13,
   "metadata": {},
   "outputs": [
    {
     "output_type": "execute_result",
     "data": {
      "text/plain": [
       "1024"
      ]
     },
     "metadata": {},
     "execution_count": 13
    }
   ],
   "source": [
    "import square2 as s2 # 모듈이 되면서 컴파일된 것 pycache에 들어감\n",
    "s2.square(10)"
   ]
  },
  {
   "cell_type": "code",
   "execution_count": 14,
   "metadata": {},
   "outputs": [
    {
     "output_type": "execute_result",
     "data": {
      "text/plain": [
       "2"
      ]
     },
     "metadata": {},
     "execution_count": 14
    }
   ],
   "source": [
    "s2.base"
   ]
  },
  {
   "cell_type": "code",
   "execution_count": 15,
   "metadata": {},
   "outputs": [
    {
     "output_type": "execute_result",
     "data": {
      "text/plain": [
       "(2, 1024)"
      ]
     },
     "metadata": {},
     "execution_count": 15
    }
   ],
   "source": [
    "from square2 import base, square\n",
    "base, square(10)"
   ]
  },
  {
   "cell_type": "code",
   "execution_count": 16,
   "metadata": {},
   "outputs": [
    {
     "output_type": "stream",
     "name": "stdout",
     "text": [
      "안녕하세요. 저는 서울시 강서구 발산동에 사는 마리아입니다.\n"
     ]
    }
   ],
   "source": [
    "### 모듈에 클래스 작성\n",
    "\n",
    "import person\n",
    "maria = person.Person('마리아', 20,'서울시 강서구 발산동')\n",
    "maria.greeting()"
   ]
  },
  {
   "cell_type": "code",
   "execution_count": 17,
   "metadata": {},
   "outputs": [
    {
     "output_type": "stream",
     "name": "stdout",
     "text": [
      "안녕하세요. 저는 서울시 강서구 발산동에 사는 마리아입니다.\n"
     ]
    }
   ],
   "source": [
    "from person import Person\n",
    "maria = Person('마리아', 20,'서울시 강서구 발산동')\n",
    "maria.greeting()"
   ]
  },
  {
   "source": [
    "### 모듈과 시작점"
   ],
   "cell_type": "markdown",
   "metadata": {}
  },
  {
   "cell_type": "code",
   "execution_count": 32,
   "metadata": {},
   "outputs": [
    {
     "output_type": "stream",
     "name": "stdout",
     "text": [
      "u45.ipynb __name__: __main__\n"
     ]
    }
   ],
   "source": [
    "import hello\n",
    "print('u45.ipynb __name__:', __name__)"
   ]
  },
  {
   "cell_type": "code",
   "execution_count": 34,
   "metadata": {},
   "outputs": [
    {
     "output_type": "stream",
     "name": "stdout",
     "text": [
      "main.py __name__: __main__\n"
     ]
    }
   ],
   "source": [
    "import hello\n",
    "print('main.py __name__:', __name__)"
   ]
  },
  {
   "cell_type": "code",
   "execution_count": 35,
   "metadata": {},
   "outputs": [
    {
     "output_type": "execute_result",
     "data": {
      "text/plain": [
       "(300, 20000)"
      ]
     },
     "metadata": {},
     "execution_count": 35
    }
   ],
   "source": [
    "import calc\n",
    "calc.add(100,200), calc.mul(100,200)"
   ]
  },
  {
   "source": [
    "### 패키지 만들고 사용하기"
   ],
   "cell_type": "markdown",
   "metadata": {}
  },
  {
   "cell_type": "code",
   "execution_count": 36,
   "metadata": {},
   "outputs": [],
   "source": [
    "import calcpkg.operation     # calcpkg 패키지의 operation 모듈을 가져옴\n",
    "import calcpkg.geometry    # calcpkg 패키지의 geometry 모듈을 가져옴"
   ]
  },
  {
   "cell_type": "code",
   "execution_count": 39,
   "metadata": {},
   "outputs": [
    {
     "output_type": "execute_result",
     "data": {
      "text/plain": [
       "(30, 200)"
      ]
     },
     "metadata": {},
     "execution_count": 39
    }
   ],
   "source": [
    "calcpkg.operation.add(10, 20), calcpkg.operation.mul(10, 20)"
   ]
  },
  {
   "cell_type": "code",
   "execution_count": 41,
   "metadata": {},
   "outputs": [
    {
     "output_type": "execute_result",
     "data": {
      "text/plain": [
       "(600.0, 1200)"
      ]
     },
     "metadata": {},
     "execution_count": 41
    }
   ],
   "source": [
    "calcpkg.geometry.triangle_area(30, 40), calcpkg.geometry.rectangle_area(30, 40)"
   ]
  },
  {
   "cell_type": "code",
   "execution_count": 43,
   "metadata": {},
   "outputs": [
    {
     "output_type": "execute_result",
     "data": {
      "text/plain": [
       "(30, 200)"
      ]
     },
     "metadata": {},
     "execution_count": 43
    }
   ],
   "source": [
    "from calcpkg.operation import add, mul\n",
    "add(10,20), mul(10,20)"
   ]
  },
  {
   "source": [
    "### calcpkg/__init__.py 수정 이후 수행해야 함"
   ],
   "cell_type": "markdown",
   "metadata": {}
  },
  {
   "cell_type": "code",
   "execution_count": 44,
   "metadata": {},
   "outputs": [
    {
     "output_type": "execute_result",
     "data": {
      "text/plain": [
       "(30, 200)"
      ]
     },
     "metadata": {},
     "execution_count": 44
    }
   ],
   "source": [
    "import calcpkg\n",
    "calcpkg.operation.add(10, 20), calcpkg.operation.mul(10, 20)"
   ]
  },
  {
   "source": [
    "### from calcpkg import * =>> main2.py에서 사용\n"
   ],
   "cell_type": "markdown",
   "metadata": {}
  },
  {
   "cell_type": "code",
   "execution_count": null,
   "metadata": {},
   "outputs": [],
   "source": []
  },
  {
   "cell_type": "code",
   "execution_count": null,
   "metadata": {},
   "outputs": [],
   "source": []
  }
 ]
}
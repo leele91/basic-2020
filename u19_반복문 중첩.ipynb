{
 "cells": [
  {
   "cell_type": "markdown",
   "metadata": {},
   "source": [
    "# Uint 19. 계단식으로 별 출력하기"
   ]
  },
  {
   "cell_type": "markdown",
   "metadata": {},
   "source": [
    "### 중첩 반복"
   ]
  },
  {
   "cell_type": "code",
   "execution_count": 2,
   "metadata": {},
   "outputs": [
    {
     "name": "stdout",
     "output_type": "stream",
     "text": [
      "k:0 k:1 k:2 k:3 k:4 i:0\\n\n",
      "k:0 k:1 k:2 k:3 k:4 i:1\\n\n",
      "k:0 k:1 k:2 k:3 k:4 i:2\\n\n",
      "k:0 k:1 k:2 k:3 k:4 i:3\\n\n",
      "k:0 k:1 k:2 k:3 k:4 i:4\\n\n"
     ]
    }
   ],
   "source": [
    "for i in range(5):\n",
    "    for k in range(5):\n",
    "        print('k:',k, sep='', end=' ')\n",
    "    print('i:', i, '\\\\n', sep='')"
   ]
  },
  {
   "cell_type": "code",
   "execution_count": 4,
   "metadata": {},
   "outputs": [
    {
     "name": "stdout",
     "output_type": "stream",
     "text": [
      "*****\n",
      "*****\n",
      "*****\n",
      "*****\n",
      "*****\n"
     ]
    }
   ],
   "source": [
    "for i in range(5):\n",
    "    for k in range(5):      \n",
    "        print('*', end='')    \n",
    "    print()"
   ]
  },
  {
   "cell_type": "code",
   "execution_count": 6,
   "metadata": {},
   "outputs": [
    {
     "name": "stdout",
     "output_type": "stream",
     "text": [
      "*\n",
      "**\n",
      "***\n",
      "****\n",
      "*****\n"
     ]
    }
   ],
   "source": [
    "# 별 1 사분면\n",
    "for i in range(5):\n",
    "    for k in range(i+1):      \n",
    "        print('*', end='')    \n",
    "    print()"
   ]
  },
  {
   "cell_type": "code",
   "execution_count": 7,
   "metadata": {},
   "outputs": [
    {
     "name": "stdout",
     "output_type": "stream",
     "text": [
      "*\n",
      "**\n",
      "***\n",
      "****\n",
      "*****\n"
     ]
    }
   ],
   "source": [
    "for i in range(1,6):\n",
    "    for k in range(i):      \n",
    "        print('*', end='')    \n",
    "    print()"
   ]
  },
  {
   "cell_type": "code",
   "execution_count": 8,
   "metadata": {},
   "outputs": [
    {
     "name": "stdout",
     "output_type": "stream",
     "text": [
      "    *\n",
      "   **\n",
      "  ***\n",
      " ****\n",
      "*****\n"
     ]
    }
   ],
   "source": [
    "# 2 사분면\n",
    "\n",
    "for i in range(5):\n",
    "    for k in range(4-i):\n",
    "        print(' ', end='')\n",
    "    for k in range(i+1):      \n",
    "        print('*', end='')    \n",
    "    print()"
   ]
  },
  {
   "cell_type": "code",
   "execution_count": 9,
   "metadata": {},
   "outputs": [
    {
     "name": "stdout",
     "output_type": "stream",
     "text": [
      "*****\n",
      " ****\n",
      "  ***\n",
      "   **\n",
      "    *\n"
     ]
    }
   ],
   "source": [
    "# 3사분면\n",
    "\n",
    "for i in range(5):\n",
    "    for k in range(i):\n",
    "        print(' ', end='')\n",
    "    for k in range(5-i):      \n",
    "        print('*', end='')    \n",
    "    print()"
   ]
  },
  {
   "cell_type": "code",
   "execution_count": 10,
   "metadata": {},
   "outputs": [
    {
     "name": "stdout",
     "output_type": "stream",
     "text": [
      "*****\n",
      "****\n",
      "***\n",
      "**\n",
      "*\n"
     ]
    }
   ],
   "source": [
    "# 4 사분면\n",
    "\n",
    "for i in range(5):\n",
    "    for k in range(5-i):      \n",
    "        print('*', end='')    \n",
    "    print()"
   ]
  },
  {
   "cell_type": "code",
   "execution_count": 12,
   "metadata": {},
   "outputs": [
    {
     "name": "stdout",
     "output_type": "stream",
     "text": [
      "   *\n",
      "  ***\n",
      " *****\n"
     ]
    }
   ],
   "source": [
    "for i in range(3):\n",
    "    for k in range(3-i):\n",
    "        print(' ', end='')\n",
    "    for k in range(2*i+1):\n",
    "        print('*', end='')\n",
    "    print()"
   ]
  },
  {
   "cell_type": "code",
   "execution_count": 14,
   "metadata": {},
   "outputs": [
    {
     "name": "stdout",
     "output_type": "stream",
     "text": [
      "    *\n",
      "   *\n",
      "  *\n",
      " *\n",
      "*\n"
     ]
    }
   ],
   "source": [
    "for i in range(5):\n",
    "    for k in range(4-i):\n",
    "        print(' ', end='')\n",
    "    for k in range(1):\n",
    "        print('*', end='')\n",
    "    print()"
   ]
  },
  {
   "cell_type": "markdown",
   "metadata": {},
   "source": [
    "# 지뢰찾기"
   ]
  },
  {
   "cell_type": "code",
   "execution_count": 1,
   "metadata": {},
   "outputs": [],
   "source": [
    "import random as rd\n",
    "mines = []\n",
    "for i in range(9):\n",
    "    rows = []\n",
    "    for k in range(9):\n",
    "        if rd.random() > 0.6:\n",
    "            rows.append('*')\n",
    "        else:\n",
    "            rows.append('.')\n",
    "    mines.append(rows)"
   ]
  },
  {
   "cell_type": "code",
   "execution_count": 3,
   "metadata": {},
   "outputs": [
    {
     "name": "stdout",
     "output_type": "stream",
     "text": [
      ".*...**.*\n",
      "*.*.*...*\n",
      ".**.**.**\n",
      "..*...**.\n",
      ".*.*.*.*.\n",
      ".**.*....\n",
      "**....*.*\n",
      "*.**..*.*\n",
      "**....*..\n"
     ]
    }
   ],
   "source": [
    "for i in range(9):\n",
    "    for k in range(9):\n",
    "        print(mines[i][k], end='')\n",
    "    print()"
   ]
  },
  {
   "cell_type": "code",
   "execution_count": 4,
   "metadata": {},
   "outputs": [],
   "source": [
    "pad_mines = []\n",
    "pad_mines.append('...........')\n",
    "for i in range(9):\n",
    "    rows = ['.']\n",
    "    for k in range(9):\n",
    "        rows.append(mines[i][k])\n",
    "    rows.append('.')\n",
    "    pad_mines.append(rows)\n",
    "pad_mines.append('...........')"
   ]
  },
  {
   "cell_type": "code",
   "execution_count": 5,
   "metadata": {},
   "outputs": [
    {
     "name": "stdout",
     "output_type": "stream",
     "text": [
      "...........\n",
      "..*...**.*.\n",
      ".*.*.*...*.\n",
      "..**.**.**.\n",
      "...*...**..\n",
      "..*.*.*.*..\n",
      "..**.*.....\n",
      ".**....*.*.\n",
      ".*.**..*.*.\n",
      ".**....*...\n",
      "...........\n"
     ]
    }
   ],
   "source": [
    "for i in range(11):\n",
    "    for k in range(11):\n",
    "        print(pad_mines[i][k], end='')\n",
    "    print()"
   ]
  },
  {
   "cell_type": "code",
   "execution_count": 6,
   "metadata": {},
   "outputs": [],
   "source": [
    "final_mines = []\n",
    "for i in range(1,10):\n",
    "    rows = []\n",
    "    for k in range(1,10):\n",
    "        if pad_mines[i][k] == '*':\n",
    "            rows.append('*')\n",
    "        else:\n",
    "            count = (pad_mines[i-1][k-1] == '*') \\\n",
    "                  + (pad_mines[i-1][k] == '*') + (pad_mines[i-1][k+1] == '*') \\\n",
    "                  + (pad_mines[i][k-1] == '*') + (pad_mines[i][k+1] == '*') \\\n",
    "                  + (pad_mines[i+1][k-1] == '*') \\\n",
    "                  + (pad_mines[i+1][k] == '*') + (pad_mines[i+1][k+1] == '*')\n",
    "            rows.append(str(count))\n",
    "    final_mines.append(rows)"
   ]
  },
  {
   "cell_type": "code",
   "execution_count": 7,
   "metadata": {},
   "outputs": [
    {
     "name": "stdout",
     "output_type": "stream",
     "text": [
      "2*222**3*\n",
      "*5*4*545*\n",
      "2**5**4**\n",
      "24*444**4\n",
      "2*5*3*4*2\n",
      "4**3*3332\n",
      "**5423*4*\n",
      "*6**13*5*\n",
      "**3212*31\n"
     ]
    }
   ],
   "source": [
    "for i in range(9):\n",
    "    for k in range(9):\n",
    "        print(final_mines[i][k], end='')\n",
    "    print()"
   ]
  },
  {
   "cell_type": "code",
   "execution_count": null,
   "metadata": {},
   "outputs": [],
   "source": []
  }
 ],
 "metadata": {
  "kernelspec": {
   "display_name": "Python 3",
   "language": "python",
   "name": "python3"
  },
  "language_info": {
   "codemirror_mode": {
    "name": "ipython",
    "version": 3
   },
   "file_extension": ".py",
   "mimetype": "text/x-python",
   "name": "python",
   "nbconvert_exporter": "python",
   "pygments_lexer": "ipython3",
   "version": "3.8.3"
  }
 },
 "nbformat": 4,
 "nbformat_minor": 4
}

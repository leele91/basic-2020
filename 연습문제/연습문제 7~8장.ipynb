{
 "cells": [
  {
   "cell_type": "markdown",
   "metadata": {},
   "source": [
    "# 파이썬 7장 연습문제 1"
   ]
  },
  {
   "cell_type": "code",
   "execution_count": 1,
   "metadata": {},
   "outputs": [],
   "source": [
    "# 출생년도에 대한 리스트 year_lists를 만들어 보자. 출생년도를 첫번째 요소로\n",
    "# 하고 1년씩 증가 다섯 번째 생일이 되는 해까지의 요소를 넣는다. \n",
    "# 예를 들어, 1980년에 태어났다면\n",
    "# 리스트는 years_list = [1980,1981,1982,1983,1984,1985]일 것이다."
   ]
  },
  {
   "cell_type": "code",
   "execution_count": 2,
   "metadata": {},
   "outputs": [
    {
     "data": {
      "text/plain": [
       "[1990, 1991, 1992, 1993, 1994, 1995]"
      ]
     },
     "execution_count": 2,
     "metadata": {},
     "output_type": "execute_result"
    }
   ],
   "source": [
    "year_lists = [1990,1991,1992,1993,1994,1995]\n",
    "year_lists"
   ]
  },
  {
   "cell_type": "code",
   "execution_count": 3,
   "metadata": {},
   "outputs": [
    {
     "data": {
      "text/plain": [
       "1993"
      ]
     },
     "execution_count": 3,
     "metadata": {},
     "output_type": "execute_result"
    }
   ],
   "source": [
    "# 문제 2. year_lists의 세번째 생일은 몇 년도인가?(첫 해는 0살이다.)\n",
    "year_lists[3]"
   ]
  },
  {
   "cell_type": "code",
   "execution_count": 4,
   "metadata": {},
   "outputs": [
    {
     "data": {
      "text/plain": [
       "1995"
      ]
     },
     "execution_count": 4,
     "metadata": {},
     "output_type": "execute_result"
    }
   ],
   "source": [
    "# 문제 3. year_lists 중 가장 나이가 많을 때는 몇년도인가?\n",
    "year_lists[5]"
   ]
  },
  {
   "cell_type": "code",
   "execution_count": 52,
   "metadata": {},
   "outputs": [
    {
     "data": {
      "text/plain": [
       "['mozzarella', 'cinderella', 'salmonella']"
      ]
     },
     "execution_count": 52,
     "metadata": {},
     "output_type": "execute_result"
    }
   ],
   "source": [
    "# 문제 4.\"mozzarella\",\"cinderella\",\"salmonella\"세 문자열을 요소로 갖는 \n",
    "# things 리스트를 만들어 보자\n",
    "\n",
    "things = list()\n",
    "things.append('mozzarella')\n",
    "things.append('cinderella')\n",
    "things.append('salmonella')\n",
    "things"
   ]
  },
  {
   "cell_type": "code",
   "execution_count": 32,
   "metadata": {},
   "outputs": [],
   "source": [
    "# 문제 5. things 리스트에서 사람 이름의 첫 글자를 대문자로 바꿔서 출력해보자\n",
    "# 그러면 리스트의 요소가 변경되는가?"
   ]
  },
  {
   "cell_type": "code",
   "execution_count": 73,
   "metadata": {},
   "outputs": [
    {
     "name": "stdout",
     "output_type": "stream",
     "text": [
      "['Mozzarella', 'Cinderella', 'Salmonella']\n"
     ]
    }
   ],
   "source": [
    "print([things[0].capitalize(),things[1].capitalize(),things[2].capitalize()])"
   ]
  },
  {
   "cell_type": "code",
   "execution_count": 84,
   "metadata": {},
   "outputs": [
    {
     "data": {
      "text/plain": [
       "['mozzarella', 'cinderella', 'salmonella']"
      ]
     },
     "execution_count": 84,
     "metadata": {},
     "output_type": "execute_result"
    }
   ],
   "source": [
    "things = ['mozzarella','cinderella','salmonella']\n",
    "things"
   ]
  },
  {
   "cell_type": "code",
   "execution_count": 85,
   "metadata": {},
   "outputs": [
    {
     "name": "stdout",
     "output_type": "stream",
     "text": [
      "['Mozzarella', 'Cinderella', 'Salmonella']\n"
     ]
    }
   ],
   "source": [
    "t_things = []\n",
    "for i in things: \n",
    "    t_things.append(i.capitalize())\n",
    "print(t_things)"
   ]
  },
  {
   "cell_type": "code",
   "execution_count": 86,
   "metadata": {},
   "outputs": [
    {
     "name": "stdout",
     "output_type": "stream",
     "text": [
      "MOZZARELLA\n"
     ]
    }
   ],
   "source": [
    "# 문제 6. things 리스트의 치즈 요소를 모두 대문자로 바꿔서 출력해보자.\n",
    "print(things[0].upper())"
   ]
  },
  {
   "cell_type": "code",
   "execution_count": 87,
   "metadata": {},
   "outputs": [
    {
     "name": "stdout",
     "output_type": "stream",
     "text": [
      "['mozzarella', 'cinderella']\n"
     ]
    }
   ],
   "source": [
    "# 문제 7.  things 리스트의 질병요소가 있다면 제거한 뒤 리스트를 출력\n",
    "things = ['mozzarella','cinderella','salmonella']\n",
    "things.pop(2)\n",
    "print(things)"
   ]
  },
  {
   "cell_type": "code",
   "execution_count": 8,
   "metadata": {},
   "outputs": [
    {
     "data": {
      "text/plain": [
       "['Groucho', 'Chico', 'Harpo']"
      ]
     },
     "execution_count": 8,
     "metadata": {},
     "output_type": "execute_result"
    }
   ],
   "source": [
    "# 문제 8. \"Groucho\", \"Chico\", \"Harpo\"세 문자열 요소를 갖는 surprise\n",
    "# 리스트를 만들어 보자.\n",
    "\n",
    "surprise = ['Groucho','Chico','Harpo']\n",
    "surprise"
   ]
  },
  {
   "cell_type": "code",
   "execution_count": 15,
   "metadata": {},
   "outputs": [
    {
     "data": {
      "text/plain": [
       "'Oprah'"
      ]
     },
     "execution_count": 15,
     "metadata": {},
     "output_type": "execute_result"
    }
   ],
   "source": [
    "# 문제 9. surprise 리스트 마지막 요소를 소문자로 변경하고,\n",
    "# 단어를 뒤집은 다음에 첫글자를 대문자로 바꿔보자\n",
    "\n",
    "surprise[-1] = surprise[-1].lower()\n",
    "surprise[-1] = (''.join(reversed(surprise[-1])))\n",
    "surprise[-1].capitalize()"
   ]
  },
  {
   "cell_type": "code",
   "execution_count": 159,
   "metadata": {},
   "outputs": [
    {
     "data": {
      "text/plain": [
       "[0, 2, 4, 6, 8]"
      ]
     },
     "execution_count": 159,
     "metadata": {},
     "output_type": "execute_result"
    }
   ],
   "source": [
    "# 문제 10. 리스트 컴프리헨션을 이용하여 range(10)에서 짝수 리스트 만들자\n",
    "a_list=[a for a in range(10) if a % 2==0]\n",
    "a_list"
   ]
  },
  {
   "cell_type": "code",
   "execution_count": 56,
   "metadata": {},
   "outputs": [],
   "source": [
    "# 문제 11. 줄넘기 랩 음악을 만들어보자. 일련의 두줄 리듬을 출력한다. \n",
    "# 프로그램의 시작 부분은 다음과 같다\n",
    "\n",
    "start1 = [\"fee\", \"fie\", \"foe\"]\n",
    "rhymes = [\n",
    "    (\"flop\", \"get a mop\"),\n",
    "    (\"fope\", \"turn the rope\"),\n",
    "    (\"fa\", \"get your ma\"),\n",
    "    (\"fudge\", \"call the judge\"),\n",
    "    (\"fat\", \"pet the cat\"),\n",
    "    (\"fog\", \"walk the dog\"),\n",
    "    (\"fun\", \"say we're done\"),\n",
    "]\n",
    "start2 = \"Someone better\""
   ]
  },
  {
   "cell_type": "code",
   "execution_count": 82,
   "metadata": {},
   "outputs": [
    {
     "name": "stdout",
     "output_type": "stream",
     "text": [
      "Fee! Fie! Foe! Flop!"
     ]
    }
   ],
   "source": [
    "# 각 문자열을 출력한다. 첫글자를 대문자로 만들고, 각 단어 뒤에 느낌표와 공백을 출력\n",
    "# rhymes의 첫번째문자열의 단어 역시 첫글자를 대문자로 만들고 느낌표를 출력\n",
    "for i in start1:\n",
    "    print(i.capitalize(), end='! ')\n",
    "for i, z in rhymes:\n",
    "    #print(i.capitalize(), end='!')\n",
    "    print(f'{i[:4].capitalize()}', end='!')\n",
    "    break;"
   ]
  },
  {
   "cell_type": "code",
   "execution_count": 281,
   "metadata": {},
   "outputs": [
    {
     "name": "stdout",
     "output_type": "stream",
     "text": [
      "Someone better get a mop.\n",
      "Someone better turn the rope.\n",
      "Someone better get your ma.\n",
      "Someone better call the judge.\n",
      "Someone better pet the cat.\n",
      "Someone better walk the dog.\n",
      "Someone better say we're done.\n"
     ]
    }
   ],
   "source": [
    "#7번 2 \n",
    "# print(start2, end=' ')\n",
    "for k,v in rhymes:\n",
    "    print(start2, v, end='.\\n')"
   ]
  },
  {
   "cell_type": "code",
   "execution_count": 272,
   "metadata": {},
   "outputs": [],
   "source": [
    "start1 = [\"fee\", \"fie\", \"foe\"]\n",
    "rhymes = [\n",
    "    (\"flop\", \"get a mop\",\"ooc\"),\n",
    "    (\"fope\", \"turn the rope\",\"epor\"),\n",
    "    (\"fa\", \"get your ma\",\"amr\"),\n",
    "    (\"fudge\", \"call the judge\",\"egduj\"),\n",
    "    (\"fat\", \"pet the cat\",\"tac\"),\n",
    "]\n",
    "start2 = \"Someone better\""
   ]
  },
  {
   "cell_type": "code",
   "execution_count": 261,
   "metadata": {},
   "outputs": [
    {
     "name": "stdout",
     "output_type": "stream",
     "text": [
      "Someone better ooc\n",
      "epor\n",
      "amr\n",
      "egduj\n",
      "tac\n"
     ]
    }
   ],
   "source": [
    "print(start2, end=' ')\n",
    "for k,v,z in rhymes:\n",
    "    print(z)"
   ]
  },
  {
   "cell_type": "markdown",
   "metadata": {},
   "source": [
    "## 8장 연습문제"
   ]
  },
  {
   "cell_type": "code",
   "execution_count": 83,
   "metadata": {},
   "outputs": [
    {
     "data": {
      "text/plain": [
       "{'dog': 'chien', 'cat': 'chat', 'walrus': 'morse'}"
      ]
     },
     "execution_count": 83,
     "metadata": {},
     "output_type": "execute_result"
    }
   ],
   "source": [
    "# 1번. 영어- 프랑스어 사전을 의미하는 e2f 딕셔너리를 만들어 출력해보자.\n",
    "# 영어 dog는 프랑스어 chien이고, cat은 chat, walrus는 morse다.\n",
    "\n",
    "e2f = dict(dog='chien', cat='chat', walrus='morse')\n",
    "e2f"
   ]
  },
  {
   "cell_type": "code",
   "execution_count": 88,
   "metadata": {},
   "outputs": [
    {
     "name": "stdout",
     "output_type": "stream",
     "text": [
      "morse\n"
     ]
    }
   ],
   "source": [
    "# 2번. e2f 딕셔너리에서 영어 walrus를 프랑스어로 출력해보자.\n",
    "\n",
    "print(e2f['walrus'])"
   ]
  },
  {
   "cell_type": "code",
   "execution_count": 92,
   "metadata": {},
   "outputs": [
    {
     "name": "stdout",
     "output_type": "stream",
     "text": [
      "{'dog': 'chien', 'cat': 'chat', 'walrus': 'morse'}\n"
     ]
    }
   ],
   "source": [
    "# 3번. e2f 딕셔너리에서 f2e딕셔너리라는 영어-프랑스어 사전을 만들어보자\n",
    "# (items 메서드 사용)\n",
    "\n",
    "f2e=dict(e2f.items())\n",
    "print(f2e)"
   ]
  },
  {
   "cell_type": "code",
   "execution_count": 113,
   "metadata": {},
   "outputs": [
    {
     "name": "stdout",
     "output_type": "stream",
     "text": [
      "chien\n"
     ]
    }
   ],
   "source": [
    "# 4번. e2f 딕셔너리를 사용해서 프랑스어 chien을 영어로 출력해보자.\n",
    "\n",
    "print(e2f['dog'])"
   ]
  },
  {
   "cell_type": "code",
   "execution_count": 116,
   "metadata": {},
   "outputs": [
    {
     "name": "stdout",
     "output_type": "stream",
     "text": [
      "dict_keys(['dog', 'cat', 'walrus'])\n"
     ]
    }
   ],
   "source": [
    "# 5번. e2f 딕셔너리의 영어 단어 키들을 출력해보자.\n",
    "print(e2f.keys())"
   ]
  },
  {
   "cell_type": "code",
   "execution_count": 117,
   "metadata": {},
   "outputs": [],
   "source": [
    "# 6번. 2차원 딕셔너리 life를 만들어보자. \n",
    "# 최상위 키는 'animals', 'plants','other'다.\n",
    "# 그리고 'animals'는 각각 'cats', 'octopi','emus'를 키로 하고,\n",
    "# 'Henri','Grumpy', 'Lucy'를 값으로 하는 또 다른 딕셔너리를 참조하고 있다.\n",
    "# 나머지 요소는 빈 딕셔너리를 참조한다."
   ]
  },
  {
   "cell_type": "code",
   "execution_count": 123,
   "metadata": {},
   "outputs": [
    {
     "data": {
      "text/plain": [
       "{'animals': {'cats': ['Henri', 'Grumpy', 'Lucy'], 'octopi': {}, 'emus': {}},\n",
       " 'plants': {},\n",
       " 'other': {}}"
      ]
     },
     "execution_count": 123,
     "metadata": {},
     "output_type": "execute_result"
    }
   ],
   "source": [
    "life = {\n",
    "    'animals':{\n",
    "        'cats':['Henri','Grumpy', 'Lucy'],\n",
    "        'octopi':{},\n",
    "        'emus':{}\n",
    "        },\n",
    "    'plants':{},\n",
    "    'other':{}\n",
    "}\n",
    "life"
   ]
  },
  {
   "cell_type": "code",
   "execution_count": 124,
   "metadata": {},
   "outputs": [
    {
     "data": {
      "text/plain": [
       "dict_keys(['animals', 'plants', 'other'])"
      ]
     },
     "execution_count": 124,
     "metadata": {},
     "output_type": "execute_result"
    }
   ],
   "source": [
    "# 7번. life 딕셔너리의 최상위 키를 출력해보자.\n",
    "life.keys()"
   ]
  },
  {
   "cell_type": "code",
   "execution_count": 125,
   "metadata": {},
   "outputs": [
    {
     "data": {
      "text/plain": [
       "dict_keys(['cats', 'octopi', 'emus'])"
      ]
     },
     "execution_count": 125,
     "metadata": {},
     "output_type": "execute_result"
    }
   ],
   "source": [
    "# 8번. life['animals']의 모든 키를 출력해보자.\n",
    "life['animals'].keys()"
   ]
  },
  {
   "cell_type": "code",
   "execution_count": 137,
   "metadata": {},
   "outputs": [
    {
     "name": "stdout",
     "output_type": "stream",
     "text": [
      "['Henri', 'Grumpy', 'Lucy']\n"
     ]
    }
   ],
   "source": [
    "# 9번. life['animals']['cats']의 모든 값을 출력해보자.\n",
    "print(life['animals']['cats'])"
   ]
  },
  {
   "cell_type": "code",
   "execution_count": 151,
   "metadata": {},
   "outputs": [
    {
     "data": {
      "text/plain": [
       "{0, 1, 2, 3, 4, 5, 6, 7, 8, 9}"
      ]
     },
     "execution_count": 151,
     "metadata": {},
     "output_type": "execute_result"
    }
   ],
   "source": [
    "# 10번. 딕셔너리 컴프리헨션으로 squares 딕셔너리를 생성한다. \n",
    "# range(10)를 키로 하고 각 키의 제곱을 값으로 한다.\n",
    "\n",
    "squares = {key for key in range(10)}\n",
    "squares"
   ]
  },
  {
   "cell_type": "code",
   "execution_count": 142,
   "metadata": {},
   "outputs": [
    {
     "data": {
      "text/plain": [
       "{0, 1, 4, 9, 16, 25, 36, 49, 64, 81}"
      ]
     },
     "execution_count": 142,
     "metadata": {},
     "output_type": "execute_result"
    }
   ],
   "source": [
    "squares = { key*key for key in range(10)}\n",
    "squares"
   ]
  },
  {
   "cell_type": "code",
   "execution_count": 143,
   "metadata": {},
   "outputs": [
    {
     "data": {
      "text/plain": [
       "{0: 0, 1: 1, 2: 4, 3: 9, 4: 16, 5: 25, 6: 36, 7: 49, 8: 64, 9: 81}"
      ]
     },
     "execution_count": 143,
     "metadata": {},
     "output_type": "execute_result"
    }
   ],
   "source": [
    "squares = {key: key*key for key in range(10)}\n",
    "squares"
   ]
  },
  {
   "cell_type": "code",
   "execution_count": 159,
   "metadata": {},
   "outputs": [
    {
     "data": {
      "text/plain": [
       "{1: 1, 3: 3, 5: 5, 7: 7, 9: 9}"
      ]
     },
     "execution_count": 159,
     "metadata": {},
     "output_type": "execute_result"
    }
   ],
   "source": [
    "# 11번. 셋 컴프리헨션을 이용하여 range(10)에서 홀수 셋을 만든다.\n",
    "set_list = ({se: se for se in range(10) if se % 2 ==1})\n",
    "set_list"
   ]
  },
  {
   "cell_type": "code",
   "execution_count": null,
   "metadata": {},
   "outputs": [],
   "source": [
    "# 12번. 제너레이터 컴프리헨션을 이용하여 문자열 'Got'과 range(10)의\n",
    "# 각 숫자를 반환한다. for문을 사용해서 제너레이터를 순회한다.\n"
   ]
  }
 ],
 "metadata": {
  "kernelspec": {
   "display_name": "Python 3",
   "language": "python",
   "name": "python3"
  },
  "language_info": {
   "codemirror_mode": {
    "name": "ipython",
    "version": 3
   },
   "file_extension": ".py",
   "mimetype": "text/x-python",
   "name": "python",
   "nbconvert_exporter": "python",
   "pygments_lexer": "ipython3",
   "version": "3.8.3"
  }
 },
 "nbformat": 4,
 "nbformat_minor": 4
}

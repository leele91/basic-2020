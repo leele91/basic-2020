{
 "cells": [
  {
   "cell_type": "code",
   "execution_count": 3,
   "metadata": {},
   "outputs": [],
   "source": [
    "lorem ='''\n",
    "What is Lorem Ipsum?\n",
    "Lorem Ipsum is simply dummy text of the printing and typesetting industry. \n",
    "Lorem Ipsum has been the industry's standard dummy text ever since the \n",
    "1500s, when an unknown printer took a galley of type and scrambled \n",
    "it to make a type specimen book. It has survived not only five centuries, \n",
    "but also the leap into electronic typesetting, remaining essentially \n",
    "unchanged. It was popularised in the 1960s with the release of Letraset \n",
    "sheets containing Lorem Ipsum passages, and more recently with desktop \n",
    "publishing software like Aldus PageMaker including versions of Lorem Ipsum.\n",
    "\n",
    "Why do we use it?\n",
    "It is a long established fact that a reader will be distracted by the \n",
    "readable content of a page when looking at its layout. The point of \n",
    "using Lorem Ipsum is that it has a more-or-less normal distribution of \n",
    "letters, as opposed to using 'Content here, content here', making it look \n",
    "like readable English. Many desktop publishing packages and web page editors\n",
    "now use Lorem Ipsum as their default model text, and a search \n",
    "for 'lorem ipsum' will uncover many web sites still in their infancy. \n",
    "Various versions have evolved over the years, sometimes by accident, \n",
    "sometimes on purpose (injected humour and the like).\n",
    "\n",
    "Where does it come from?\n",
    "Contrary to popular belief, Lorem Ipsum is not simply random text. \n",
    "It has roots in a piece of classical Latin literature from 45 BC, \n",
    "making it over 2000 years old. Richard McClintock, a Latin professor \n",
    "at Hampden-Sydney College in Virginia, looked up one of the more obscure \n",
    "Latin words, consectetur, from a Lorem Ipsum passage, and going through \n",
    "the cites of the word in classical literature, discovered the undoubtable \n",
    "source. Lorem Ipsum comes from sections 1.10.32 and 1.10.33 of \"de Finibus\n",
    "Bonorum et Malorum\" (The Extremes of Good and Evil) by Cicero, \n",
    "written in 45 BC. This book is a treatise on the theory of ethics,\n",
    "very popular during the Renaissance. The first line of Lorem Ipsum, \n",
    "\"Lorem ipsum dolor sit amet..\", comes from a line in section 1.10.32.\n",
    "\n",
    "The standard chunk of Lorem Ipsum used since the 1500s is reproduced \n",
    "below for those interested. Sections 1.10.32 and 1.10.33 from \"de Finibus\n",
    "Bonorum et Malorum\" by Cicero are also reproduced in their exact original \n",
    "form, accompanied by English versions from the 1914 translation by H. \n",
    "Rackham.\n",
    "\n",
    "Where can I get some?\n",
    "There are many variations of passages of Lorem Ipsum available, \n",
    "but the majority have suffered alteration in some form, by injected humour,\n",
    "or randomised words which don't look even slightly believable. \n",
    "If you are going to use a passage of Lorem Ipsum, you need to be sure there\n",
    "isn't anything embarrassing hidden in the middle of text. \n",
    "All the Lorem Ipsum generators on the Internet tend to repeat predefined\n",
    "chunks as necessary, making this the first true generator on the Internet.\n",
    "It uses a dictionary of over 200 Latin words, combined with a handful of \n",
    "model sentence structures, to generate Lorem Ipsum which looks reasonable. \n",
    "The generated Lorem Ipsum is therefore always free from repetition, \n",
    "injected humour, or non-characteristic words etc.\n",
    "'''"
   ]
  },
  {
   "cell_type": "code",
   "execution_count": 4,
   "metadata": {},
   "outputs": [
    {
     "name": "stdout",
     "output_type": "stream",
     "text": [
      "\n",
      "what is Lorem Ipsum\n",
      "Lorem Ipsum is simply dummy text of the printing and typesetting\n",
      "\n"
     ]
    }
   ],
   "source": [
    "# 구둣점 숫자 삭제\n",
    "import re\n",
    "import string\n",
    "lorem = re.sub(f'[{string.punctuation}0-9]', '',lorem, flags=re.MULTILINE)\n",
    "print(lorem)"
   ]
  },
  {
   "cell_type": "code",
   "execution_count": null,
   "metadata": {},
   "outputs": [],
   "source": [
    "# 소문자로 변경\n",
    "lorem = rorem.lower()\n",
    "# print(lorem)"
   ]
  },
  {
   "cell_type": "code",
   "execution_count": 5,
   "metadata": {},
   "outputs": [
    {
     "name": "stdout",
     "output_type": "stream",
     "text": [
      "['what', 'is', 'Lorem', 'Ipsum', 'Lorem', 'Ipsum', 'is', 'simply', 'dummy', 'text', 'of', 'the', 'printing', 'and', 'typesetting']\n"
     ]
    }
   ],
   "source": [
    "lorem_list = lorem.split() # 텍스트를 분리하기위해 단어리스트를 만듬\n",
    "print(lorem_list)"
   ]
  },
  {
   "cell_type": "code",
   "execution_count": 6,
   "metadata": {},
   "outputs": [
    {
     "name": "stdout",
     "output_type": "stream",
     "text": [
      "{'what': 1, 'is': 2, 'Lorem': 2, 'Ipsum': 2, 'simply': 1, 'dummy': 1, 'text': 1, 'of': 1, 'the': 1, 'printing': 1, 'and': 1, 'typesetting': 1}\n"
     ]
    }
   ],
   "source": [
    "word_dict = {} # 빈 리ㅣ스트 만듬\n",
    "for word in lorem_list:\n",
    "    if word in word_dict.keys():# 워드 딕트 안에 키안에 속해있으면\n",
    "        word_dict[word] +=1 # 워드 딕트의 워드 값을 증가\n",
    "    else:\n",
    "        word_dict.update({word: 1}) # 없으면 word_dict에 신규등록\n",
    "print(word_dict)"
   ]
  },
  {
   "cell_type": "code",
   "execution_count": 7,
   "metadata": {},
   "outputs": [
    {
     "name": "stdout",
     "output_type": "stream",
     "text": [
      "['is', 'Lorem', 'Ipsum', 'what', 'simply', 'dummy', 'text', 'of', 'the', 'printing', 'and', 'typesetting']\n"
     ]
    }
   ],
   "source": [
    "#벨류로 솔팅(lambda함수)\n",
    "sorted_words = sorted(word_dict, key = lambda k : word_dict[k], reverse=True)\n",
    "print(sorted_words)"
   ]
  },
  {
   "cell_type": "code",
   "execution_count": 8,
   "metadata": {},
   "outputs": [
    {
     "name": "stdout",
     "output_type": "stream",
     "text": [
      "is 2\n",
      "Lorem 2\n",
      "Ipsum 2\n",
      "what 1\n",
      "simply 1\n",
      "dummy 1\n",
      "text 1\n",
      "of 1\n",
      "the 1\n",
      "printing 1\n"
     ]
    }
   ],
   "source": [
    "for index, value in enumerate(sorted_words):# index와 value값을 꺼집어 내는것\n",
    "    if index == 10:\n",
    "        break;\n",
    "    print(value, word_dict[value])"
   ]
  },
  {
   "cell_type": "markdown",
   "metadata": {},
   "source": [
    "# 파일로부터 읽어서 word counting"
   ]
  },
  {
   "cell_type": "code",
   "execution_count": 6,
   "metadata": {},
   "outputs": [
    {
     "name": "stdout",
     "output_type": "stream",
     "text": [
      "what is lorem ipsum?\n",
      " lorem ipsum is simply dummy text of the printing and typesetting industry. \n",
      " lorem ipsum has been the industry's standard dummy text ever since the \n",
      " 1500s, when an unknown printer took a galley of type and scrambled \n",
      " it to make a type specimen book. it has survived not only five centuries, \n",
      " but also the leap into electronic typesetting, remaining essentially \n",
      " unchanged. it was popularised in the 1960s with the release of letraset \n",
      " sheets containing lorem ipsum passages, and more recently with desktop \n",
      " publishing software like aldus pagemaker including versions of lorem ipsum.\n",
      " \n",
      " why do we use it?\n",
      " it is a long established fact that a reader will be distracted by the \n",
      " readable content of a page when looking at its layout. the point of \n",
      " using lorem ipsum is that it has a more-or-less normal distribution of \n",
      " letters, as opposed to using 'content here, content here', making it look \n",
      " like readable english. many desktop publishing packages and web page editors\n",
      " now use lorem ipsum as their default model text, and a search \n",
      " for 'lorem ipsum' will uncover many web sites still in their infancy. \n",
      " various versions have evolved over the years, sometimes by accident, \n",
      " sometimes on purpose (injected humour and the like).\n",
      " \n",
      " where does it come from?\n",
      " contrary to popular belief, lorem ipsum is not simply random text. \n",
      " it has roots in a piece of classical latin literature from 45 bc, \n",
      " making it over 2000 years old. richard mcclintock, a latin professor \n",
      " at hampden-sydney college in virginia, looked up one of the more obscure \n",
      " latin words, consectetur, from a lorem ipsum passage, and going through \n",
      " the cites of the word in classical literature, discovered the undoubtable \n",
      " source. lorem ipsum comes from sections 1.10.32 and 1.10.33 of \"de finibus\n",
      " bonorum et malorum\" (the extremes of good and evil) by cicero, \n",
      " written in 45 bc. this book is a treatise on the theory of ethics,\n",
      " very popular during the renaissance. the first line of lorem ipsum, \n",
      " \"lorem ipsum dolor sit amet..\", comes from a line in section 1.10.32.\n",
      " \n",
      " the standard chunk of lorem ipsum used since the 1500s is reproduced \n",
      " below for those interested. sections 1.10.32 and 1.10.33 from \"de finibus\n",
      " bonorum et malorum\" by cicero are also reproduced in their exact original \n",
      " form, accompanied by english versions from the 1914 translation by h. \n",
      " rackham.\n",
      " \n",
      " where can i get some?\n",
      " there are many variations of passages of lorem ipsum available, \n",
      " but the majority have suffered alteration in some form, by injected humour,\n",
      " or randomised words which don't look even slightly believable. \n",
      " if you are going to use a passage of lorem ipsum, you need to be sure there\n",
      " isn't anything embarrassing hidden in the middle of text. \n",
      " all the lorem ipsum generators on the internet tend to repeat predefined\n",
      " chunks as necessary, making this the first true generator on the internet.\n",
      " it uses a dictionary of over 200 latin words, combined with a handful of \n",
      " model sentence structures, to generate lorem ipsum which looks reasonable. \n",
      " the generated lorem ipsum is therefore always free from repetition, \n",
      " injected humour, or non-characteristic words etc.\n"
     ]
    }
   ],
   "source": [
    "with open('c:/temp/lorem.txt', 'r') as file: # hello.txt 파일을 읽기 모드(r)로 열기\n",
    "    line_list = file.readlines()\n",
    "lines = ' '.join(line_list)\n",
    "lines = lines.lower()\n",
    "#print(lines)"
   ]
  },
  {
   "cell_type": "code",
   "execution_count": 7,
   "metadata": {},
   "outputs": [
    {
     "name": "stdout",
     "output_type": "stream",
     "text": [
      "what is lorem ipsum\n",
      " lorem ipsum is simply dummy text of the printing and typesetting industry \n",
      " lorem ipsum has been the industrys standard dummy text ever since the \n",
      " s when an unknown printer took a galley of type and scrambled \n",
      " it to make a type specimen book it has survived not only five centuries \n",
      " but also the leap into electronic typesetting remaining essentially \n",
      " unchanged it was popularised in the s with the release of letraset \n",
      " sheets containing lorem ipsum passages and more recently with desktop \n",
      " publishing software like aldus pagemaker including versions of lorem ipsum\n",
      " \n",
      " why do we use it\n",
      " it is a long established fact that a reader will be distracted by the \n",
      " readable content of a page when looking at its layout the point of \n",
      " using lorem ipsum is that it has a moreorless normal distribution of \n",
      " letters as opposed to using content here content here making it look \n",
      " like readable english many desktop publishing packages and web page editors\n",
      " now use lorem ipsum as their default model text and a search \n",
      " for lorem ipsum will uncover many web sites still in their infancy \n",
      " various versions have evolved over the years sometimes by accident \n",
      " sometimes on purpose injected humour and the like\n",
      " \n",
      " where does it come from\n",
      " contrary to popular belief lorem ipsum is not simply random text \n",
      " it has roots in a piece of classical latin literature from  bc \n",
      " making it over  years old richard mcclintock a latin professor \n",
      " at hampdensydney college in virginia looked up one of the more obscure \n",
      " latin words consectetur from a lorem ipsum passage and going through \n",
      " the cites of the word in classical literature discovered the undoubtable \n",
      " source lorem ipsum comes from sections  and  of de finibus\n",
      " bonorum et malorum the extremes of good and evil by cicero \n",
      " written in  bc this book is a treatise on the theory of ethics\n",
      " very popular during the renaissance the first line of lorem ipsum \n",
      " lorem ipsum dolor sit amet comes from a line in section \n",
      " \n",
      " the standard chunk of lorem ipsum used since the s is reproduced \n",
      " below for those interested sections  and  from de finibus\n",
      " bonorum et malorum by cicero are also reproduced in their exact original \n",
      " form accompanied by english versions from the  translation by h \n",
      " rackham\n",
      " \n",
      " where can i get some\n",
      " there are many variations of passages of lorem ipsum available \n",
      " but the majority have suffered alteration in some form by injected humour\n",
      " or randomised words which dont look even slightly believable \n",
      " if you are going to use a passage of lorem ipsum you need to be sure there\n",
      " isnt anything embarrassing hidden in the middle of text \n",
      " all the lorem ipsum generators on the internet tend to repeat predefined\n",
      " chunks as necessary making this the first true generator on the internet\n",
      " it uses a dictionary of over  latin words combined with a handful of \n",
      " model sentence structures to generate lorem ipsum which looks reasonable \n",
      " the generated lorem ipsum is therefore always free from repetition \n",
      " injected humour or noncharacteristic words etc\n"
     ]
    }
   ],
   "source": [
    "import re\n",
    "import string\n",
    "lines = re.sub(f'[{string.punctuation}0-9]', '', lines, flags=re.MULTILINE)\n",
    "#print(lines)"
   ]
  },
  {
   "cell_type": "code",
   "execution_count": 8,
   "metadata": {},
   "outputs": [
    {
     "name": "stdout",
     "output_type": "stream",
     "text": [
      "['what', 'is', 'lorem', 'ipsum', 'lorem', 'ipsum', 'is', 'simply', 'dummy', 'text', 'of', 'the', 'printing', 'and', 'typesetting', 'industry', 'lorem', 'ipsum', 'has', 'been', 'the', 'industrys', 'standard', 'dummy', 'text', 'ever', 'since', 'the', 's', 'when', 'an', 'unknown', 'printer', 'took', 'a', 'galley', 'of', 'type', 'and', 'scrambled', 'it', 'to', 'make', 'a', 'type', 'specimen', 'book', 'it', 'has', 'survived', 'not', 'only', 'five', 'centuries', 'but', 'also', 'the', 'leap', 'into', 'electronic', 'typesetting', 'remaining', 'essentially', 'unchanged', 'it', 'was', 'popularised', 'in', 'the', 's', 'with', 'the', 'release', 'of', 'letraset', 'sheets', 'containing', 'lorem', 'ipsum', 'passages', 'and', 'more', 'recently', 'with', 'desktop', 'publishing', 'software', 'like', 'aldus', 'pagemaker', 'including', 'versions', 'of', 'lorem', 'ipsum', 'why', 'do', 'we', 'use', 'it', 'it', 'is', 'a', 'long', 'established', 'fact', 'that', 'a', 'reader', 'will', 'be', 'distracted', 'by', 'the', 'readable', 'content', 'of', 'a', 'page', 'when', 'looking', 'at', 'its', 'layout', 'the', 'point', 'of', 'using', 'lorem', 'ipsum', 'is', 'that', 'it', 'has', 'a', 'moreorless', 'normal', 'distribution', 'of', 'letters', 'as', 'opposed', 'to', 'using', 'content', 'here', 'content', 'here', 'making', 'it', 'look', 'like', 'readable', 'english', 'many', 'desktop', 'publishing', 'packages', 'and', 'web', 'page', 'editors', 'now', 'use', 'lorem', 'ipsum', 'as', 'their', 'default', 'model', 'text', 'and', 'a', 'search', 'for', 'lorem', 'ipsum', 'will', 'uncover', 'many', 'web', 'sites', 'still', 'in', 'their', 'infancy', 'various', 'versions', 'have', 'evolved', 'over', 'the', 'years', 'sometimes', 'by', 'accident', 'sometimes', 'on', 'purpose', 'injected', 'humour', 'and', 'the', 'like', 'where', 'does', 'it', 'come', 'from', 'contrary', 'to', 'popular', 'belief', 'lorem', 'ipsum', 'is', 'not', 'simply', 'random', 'text', 'it', 'has', 'roots', 'in', 'a', 'piece', 'of', 'classical', 'latin', 'literature', 'from', 'bc', 'making', 'it', 'over', 'years', 'old', 'richard', 'mcclintock', 'a', 'latin', 'professor', 'at', 'hampdensydney', 'college', 'in', 'virginia', 'looked', 'up', 'one', 'of', 'the', 'more', 'obscure', 'latin', 'words', 'consectetur', 'from', 'a', 'lorem', 'ipsum', 'passage', 'and', 'going', 'through', 'the', 'cites', 'of', 'the', 'word', 'in', 'classical', 'literature', 'discovered', 'the', 'undoubtable', 'source', 'lorem', 'ipsum', 'comes', 'from', 'sections', 'and', 'of', 'de', 'finibus', 'bonorum', 'et', 'malorum', 'the', 'extremes', 'of', 'good', 'and', 'evil', 'by', 'cicero', 'written', 'in', 'bc', 'this', 'book', 'is', 'a', 'treatise', 'on', 'the', 'theory', 'of', 'ethics', 'very', 'popular', 'during', 'the', 'renaissance', 'the', 'first', 'line', 'of', 'lorem', 'ipsum', 'lorem', 'ipsum', 'dolor', 'sit', 'amet', 'comes', 'from', 'a', 'line', 'in', 'section', 'the', 'standard', 'chunk', 'of', 'lorem', 'ipsum', 'used', 'since', 'the', 's', 'is', 'reproduced', 'below', 'for', 'those', 'interested', 'sections', 'and', 'from', 'de', 'finibus', 'bonorum', 'et', 'malorum', 'by', 'cicero', 'are', 'also', 'reproduced', 'in', 'their', 'exact', 'original', 'form', 'accompanied', 'by', 'english', 'versions', 'from', 'the', 'translation', 'by', 'h', 'rackham', 'where', 'can', 'i', 'get', 'some', 'there', 'are', 'many', 'variations', 'of', 'passages', 'of', 'lorem', 'ipsum', 'available', 'but', 'the', 'majority', 'have', 'suffered', 'alteration', 'in', 'some', 'form', 'by', 'injected', 'humour', 'or', 'randomised', 'words', 'which', 'dont', 'look', 'even', 'slightly', 'believable', 'if', 'you', 'are', 'going', 'to', 'use', 'a', 'passage', 'of', 'lorem', 'ipsum', 'you', 'need', 'to', 'be', 'sure', 'there', 'isnt', 'anything', 'embarrassing', 'hidden', 'in', 'the', 'middle', 'of', 'text', 'all', 'the', 'lorem', 'ipsum', 'generators', 'on', 'the', 'internet', 'tend', 'to', 'repeat', 'predefined', 'chunks', 'as', 'necessary', 'making', 'this', 'the', 'first', 'true', 'generator', 'on', 'the', 'internet', 'it', 'uses', 'a', 'dictionary', 'of', 'over', 'latin', 'words', 'combined', 'with', 'a', 'handful', 'of', 'model', 'sentence', 'structures', 'to', 'generate', 'lorem', 'ipsum', 'which', 'looks', 'reasonable', 'the', 'generated', 'lorem', 'ipsum', 'is', 'therefore', 'always', 'free', 'from', 'repetition', 'injected', 'humour', 'or', 'noncharacteristic', 'words', 'etc']\n"
     ]
    }
   ],
   "source": [
    "words_list = lines.split()\n",
    "#print(words_list)"
   ]
  },
  {
   "cell_type": "code",
   "execution_count": 9,
   "metadata": {},
   "outputs": [
    {
     "name": "stdout",
     "output_type": "stream",
     "text": [
      "{'what': 1, 'is': 8, 'lorem': 19, 'ipsum': 19, 'simply': 2, 'dummy': 2, 'text': 5, 'of': 21, 'the': 28, 'printing': 1, 'and': 10, 'typesetting': 2, 'industry': 1, 'has': 4, 'been': 1, 'industrys': 1, 'standard': 2, 'ever': 1, 'since': 2, 's': 3, 'when': 2, 'an': 1, 'unknown': 1, 'printer': 1, 'took': 1, 'a': 15, 'galley': 1, 'type': 2, 'scrambled': 1, 'it': 11, 'to': 7, 'make': 1, 'specimen': 1, 'book': 2, 'survived': 1, 'not': 2, 'only': 1, 'five': 1, 'centuries': 1, 'but': 2, 'also': 2, 'leap': 1, 'into': 1, 'electronic': 1, 'remaining': 1, 'essentially': 1, 'unchanged': 1, 'was': 1, 'popularised': 1, 'in': 10, 'with': 3, 'release': 1, 'letraset': 1, 'sheets': 1, 'containing': 1, 'passages': 2, 'more': 2, 'recently': 1, 'desktop': 2, 'publishing': 2, 'software': 1, 'like': 3, 'aldus': 1, 'pagemaker': 1, 'including': 1, 'versions': 3, 'why': 1, 'do': 1, 'we': 1, 'use': 3, 'long': 1, 'established': 1, 'fact': 1, 'that': 2, 'reader': 1, 'will': 2, 'be': 2, 'distracted': 1, 'by': 7, 'readable': 2, 'content': 3, 'page': 2, 'looking': 1, 'at': 2, 'its': 1, 'layout': 1, 'point': 1, 'using': 2, 'moreorless': 1, 'normal': 1, 'distribution': 1, 'letters': 1, 'as': 3, 'opposed': 1, 'here': 2, 'making': 3, 'look': 2, 'english': 2, 'many': 3, 'packages': 1, 'web': 2, 'editors': 1, 'now': 1, 'their': 3, 'default': 1, 'model': 2, 'search': 1, 'for': 2, 'uncover': 1, 'sites': 1, 'still': 1, 'infancy': 1, 'various': 1, 'have': 2, 'evolved': 1, 'over': 3, 'years': 2, 'sometimes': 2, 'accident': 1, 'on': 4, 'purpose': 1, 'injected': 3, 'humour': 3, 'where': 2, 'does': 1, 'come': 1, 'from': 8, 'contrary': 1, 'popular': 2, 'belief': 1, 'random': 1, 'roots': 1, 'piece': 1, 'classical': 2, 'latin': 4, 'literature': 2, 'bc': 2, 'old': 1, 'richard': 1, 'mcclintock': 1, 'professor': 1, 'hampdensydney': 1, 'college': 1, 'virginia': 1, 'looked': 1, 'up': 1, 'one': 1, 'obscure': 1, 'words': 4, 'consectetur': 1, 'passage': 2, 'going': 2, 'through': 1, 'cites': 1, 'word': 1, 'discovered': 1, 'undoubtable': 1, 'source': 1, 'comes': 2, 'sections': 2, 'de': 2, 'finibus': 2, 'bonorum': 2, 'et': 2, 'malorum': 2, 'extremes': 1, 'good': 1, 'evil': 1, 'cicero': 2, 'written': 1, 'this': 2, 'treatise': 1, 'theory': 1, 'ethics': 1, 'very': 1, 'during': 1, 'renaissance': 1, 'first': 2, 'line': 2, 'dolor': 1, 'sit': 1, 'amet': 1, 'section': 1, 'chunk': 1, 'used': 1, 'reproduced': 2, 'below': 1, 'those': 1, 'interested': 1, 'are': 3, 'exact': 1, 'original': 1, 'form': 2, 'accompanied': 1, 'translation': 1, 'h': 1, 'rackham': 1, 'can': 1, 'i': 1, 'get': 1, 'some': 2, 'there': 2, 'variations': 1, 'available': 1, 'majority': 1, 'suffered': 1, 'alteration': 1, 'or': 2, 'randomised': 1, 'which': 2, 'dont': 1, 'even': 1, 'slightly': 1, 'believable': 1, 'if': 1, 'you': 2, 'need': 1, 'sure': 1, 'isnt': 1, 'anything': 1, 'embarrassing': 1, 'hidden': 1, 'middle': 1, 'all': 1, 'generators': 1, 'internet': 2, 'tend': 1, 'repeat': 1, 'predefined': 1, 'chunks': 1, 'necessary': 1, 'true': 1, 'generator': 1, 'uses': 1, 'dictionary': 1, 'combined': 1, 'handful': 1, 'sentence': 1, 'structures': 1, 'generate': 1, 'looks': 1, 'reasonable': 1, 'generated': 1, 'therefore': 1, 'always': 1, 'free': 1, 'repetition': 1, 'noncharacteristic': 1, 'etc': 1}\n"
     ]
    }
   ],
   "source": [
    "word_dict = {}\n",
    "for word in words_list:\n",
    "    if word in word_dict.keys():\n",
    "        word_dict[word] += 1\n",
    "    else:\n",
    "        word_dict.update({word: 1})\n",
    "print(word_dict)"
   ]
  },
  {
   "cell_type": "code",
   "execution_count": 10,
   "metadata": {},
   "outputs": [
    {
     "name": "stdout",
     "output_type": "stream",
     "text": [
      "['the', 'of', 'lorem', 'ipsum', 'a', 'it', 'and', 'in', 'is', 'from', 'to', 'by', 'text', 'has', 'on', 'latin', 'words', 's', 'with', 'like', 'versions', 'use', 'content', 'as', 'making', 'many', 'their', 'over', 'injected', 'humour', 'are', 'simply', 'dummy', 'typesetting', 'standard', 'since', 'when', 'type', 'book', 'not', 'but', 'also', 'passages', 'more', 'desktop', 'publishing', 'that', 'will', 'be', 'readable', 'page', 'at', 'using', 'here', 'look', 'english', 'web', 'model', 'for', 'have', 'years', 'sometimes', 'where', 'popular', 'classical', 'literature', 'bc', 'passage', 'going', 'comes', 'sections', 'de', 'finibus', 'bonorum', 'et', 'malorum', 'cicero', 'this', 'first', 'line', 'reproduced', 'form', 'some', 'there', 'or', 'which', 'you', 'internet', 'what', 'printing', 'industry', 'been', 'industrys', 'ever', 'an', 'unknown', 'printer', 'took', 'galley', 'scrambled', 'make', 'specimen', 'survived', 'only', 'five', 'centuries', 'leap', 'into', 'electronic', 'remaining', 'essentially', 'unchanged', 'was', 'popularised', 'release', 'letraset', 'sheets', 'containing', 'recently', 'software', 'aldus', 'pagemaker', 'including', 'why', 'do', 'we', 'long', 'established', 'fact', 'reader', 'distracted', 'looking', 'its', 'layout', 'point', 'moreorless', 'normal', 'distribution', 'letters', 'opposed', 'packages', 'editors', 'now', 'default', 'search', 'uncover', 'sites', 'still', 'infancy', 'various', 'evolved', 'accident', 'purpose', 'does', 'come', 'contrary', 'belief', 'random', 'roots', 'piece', 'old', 'richard', 'mcclintock', 'professor', 'hampdensydney', 'college', 'virginia', 'looked', 'up', 'one', 'obscure', 'consectetur', 'through', 'cites', 'word', 'discovered', 'undoubtable', 'source', 'extremes', 'good', 'evil', 'written', 'treatise', 'theory', 'ethics', 'very', 'during', 'renaissance', 'dolor', 'sit', 'amet', 'section', 'chunk', 'used', 'below', 'those', 'interested', 'exact', 'original', 'accompanied', 'translation', 'h', 'rackham', 'can', 'i', 'get', 'variations', 'available', 'majority', 'suffered', 'alteration', 'randomised', 'dont', 'even', 'slightly', 'believable', 'if', 'need', 'sure', 'isnt', 'anything', 'embarrassing', 'hidden', 'middle', 'all', 'generators', 'tend', 'repeat', 'predefined', 'chunks', 'necessary', 'true', 'generator', 'uses', 'dictionary', 'combined', 'handful', 'sentence', 'structures', 'generate', 'looks', 'reasonable', 'generated', 'therefore', 'always', 'free', 'repetition', 'noncharacteristic', 'etc']\n"
     ]
    }
   ],
   "source": [
    "sorted_words = sorted(word_dict, key=lambda k : word_dict[k], reverse=True)\n",
    "print(sorted_words)"
   ]
  },
  {
   "cell_type": "code",
   "execution_count": 11,
   "metadata": {},
   "outputs": [
    {
     "name": "stdout",
     "output_type": "stream",
     "text": [
      "the 28\n",
      "of 21\n",
      "lorem 19\n",
      "ipsum 19\n",
      "a 15\n",
      "it 11\n",
      "and 10\n",
      "in 10\n",
      "is 8\n",
      "from 8\n"
     ]
    }
   ],
   "source": [
    "for index, value in enumerate(sorted_words):\n",
    "    if index == 10:\n",
    "        break;\n",
    "    print(value, word_dict[value])"
   ]
  },
  {
   "cell_type": "code",
   "execution_count": null,
   "metadata": {},
   "outputs": [],
   "source": []
  }
 ],
 "metadata": {
  "kernelspec": {
   "display_name": "Python 3",
   "language": "python",
   "name": "python3"
  },
  "language_info": {
   "codemirror_mode": {
    "name": "ipython",
    "version": 3
   },
   "file_extension": ".py",
   "mimetype": "text/x-python",
   "name": "python",
   "nbconvert_exporter": "python",
   "pygments_lexer": "ipython3",
   "version": "3.8.3"
  }
 },
 "nbformat": 4,
 "nbformat_minor": 4
}

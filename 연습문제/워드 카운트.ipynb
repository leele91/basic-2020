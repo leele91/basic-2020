{
 "cells": [
  {
   "cell_type": "code",
   "execution_count": 3,
   "metadata": {},
   "outputs": [],
   "source": [
    "lorem ='''\n",
    "what is Lorem Ipsum?\n",
    "Lorem Ipsum is simply dummy text of the printing and typesetting\n",
    "'''"
   ]
  },
  {
   "cell_type": "code",
   "execution_count": 4,
   "metadata": {},
   "outputs": [
    {
     "name": "stdout",
     "output_type": "stream",
     "text": [
      "\n",
      "what is Lorem Ipsum\n",
      "Lorem Ipsum is simply dummy text of the printing and typesetting\n",
      "\n"
     ]
    }
   ],
   "source": [
    "# 구둣점 숫자 삭제\n",
    "import re\n",
    "import string\n",
    "lorem = re.sub(f'[{string.punctuation}0-9]', '',lorem, flags=re.MULTILINE)\n",
    "print(lorem)"
   ]
  },
  {
   "cell_type": "code",
   "execution_count": null,
   "metadata": {},
   "outputs": [],
   "source": [
    "# 소문자로 변경\n",
    "lorem = rorem.lower()\n",
    "# print(lorem)"
   ]
  },
  {
   "cell_type": "code",
   "execution_count": 5,
   "metadata": {},
   "outputs": [
    {
     "name": "stdout",
     "output_type": "stream",
     "text": [
      "['what', 'is', 'Lorem', 'Ipsum', 'Lorem', 'Ipsum', 'is', 'simply', 'dummy', 'text', 'of', 'the', 'printing', 'and', 'typesetting']\n"
     ]
    }
   ],
   "source": [
    "lorem_list = lorem.split() # 텍스트를 분리하기위해 단어리스트를 만듬\n",
    "print(lorem_list)"
   ]
  },
  {
   "cell_type": "code",
   "execution_count": 6,
   "metadata": {},
   "outputs": [
    {
     "name": "stdout",
     "output_type": "stream",
     "text": [
      "{'what': 1, 'is': 2, 'Lorem': 2, 'Ipsum': 2, 'simply': 1, 'dummy': 1, 'text': 1, 'of': 1, 'the': 1, 'printing': 1, 'and': 1, 'typesetting': 1}\n"
     ]
    }
   ],
   "source": [
    "word_dict = {} # 빈 리ㅣ스트 만듬\n",
    "for word in lorem_list:\n",
    "    if word in word_dict.keys():# 워드 딕트 안에 키안에 속해있으면\n",
    "        word_dict[word] +=1 # 워드 딕트의 워드 값을 증가\n",
    "    else:\n",
    "        word_dict.update({word: 1}) # 없으면 word_dict에 신규등록\n",
    "print(word_dict)"
   ]
  },
  {
   "cell_type": "code",
   "execution_count": 7,
   "metadata": {},
   "outputs": [
    {
     "name": "stdout",
     "output_type": "stream",
     "text": [
      "['is', 'Lorem', 'Ipsum', 'what', 'simply', 'dummy', 'text', 'of', 'the', 'printing', 'and', 'typesetting']\n"
     ]
    }
   ],
   "source": [
    "#벨류로 솔팅(lambda함수)\n",
    "sorted_words = sorted(word_dict, key = lambda k : word_dict[k], reverse=True)\n",
    "print(sorted_words)"
   ]
  },
  {
   "cell_type": "code",
   "execution_count": 8,
   "metadata": {},
   "outputs": [
    {
     "name": "stdout",
     "output_type": "stream",
     "text": [
      "is 2\n",
      "Lorem 2\n",
      "Ipsum 2\n",
      "what 1\n",
      "simply 1\n",
      "dummy 1\n",
      "text 1\n",
      "of 1\n",
      "the 1\n",
      "printing 1\n"
     ]
    }
   ],
   "source": [
    "for index, value in enumerate(sorted_words):# index와 value값을 꺼집어 내는것\n",
    "    if index == 10:\n",
    "        break;\n",
    "    print(value, word_dict[value])"
   ]
  },
  {
   "cell_type": "markdown",
   "metadata": {},
   "source": [
    "# 파일로부터 읽어서 word counting"
   ]
  },
  {
   "cell_type": "code",
   "execution_count": null,
   "metadata": {},
   "outputs": [],
   "source": [
    "with open('c:/temp/lorem.txt', 'r') as file:\n",
    "    lines = file.readlines()\n",
    "    "
   ]
  }
 ],
 "metadata": {
  "kernelspec": {
   "display_name": "Python 3",
   "language": "python",
   "name": "python3"
  },
  "language_info": {
   "codemirror_mode": {
    "name": "ipython",
    "version": 3
   },
   "file_extension": ".py",
   "mimetype": "text/x-python",
   "name": "python",
   "nbconvert_exporter": "python",
   "pygments_lexer": "ipython3",
   "version": "3.8.3"
  }
 },
 "nbformat": 4,
 "nbformat_minor": 4
}

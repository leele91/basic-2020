{
 "cells": [
  {
   "cell_type": "code",
   "execution_count": 2,
   "metadata": {},
   "outputs": [
    {
     "name": "stdout",
     "output_type": "stream",
     "text": [
      "정수를 입력하시오10\n",
      "1에서 10까지의 제곱의 합:1\n",
      "1에서 10까지의 제곱의 합:5\n",
      "1에서 10까지의 제곱의 합:14\n",
      "1에서 10까지의 제곱의 합:30\n",
      "1에서 10까지의 제곱의 합:55\n",
      "1에서 10까지의 제곱의 합:91\n",
      "1에서 10까지의 제곱의 합:140\n",
      "1에서 10까지의 제곱의 합:204\n",
      "1에서 10까지의 제곱의 합:285\n",
      "1에서 10까지의 제곱의 합:385\n",
      "1에서 10까지 합의 제곱:1\n",
      "1에서 10까지 합의 제곱:3\n",
      "1에서 10까지 합의 제곱:6\n",
      "1에서 10까지 합의 제곱:10\n",
      "1에서 10까지 합의 제곱:15\n",
      "1에서 10까지 합의 제곱:21\n",
      "1에서 10까지 합의 제곱:28\n",
      "1에서 10까지 합의 제곱:36\n",
      "1에서 10까지 합의 제곱:45\n",
      "1에서 10까지 합의 제곱:55\n"
     ]
    }
   ],
   "source": [
    "# 1. 양의 정수 N을 입력으로 받아 1부터 N까지 제곱의 합과 합의 제곱을 구하시오\n",
    "\n",
    "unm = int(input('정수를 입력하시오'))\n",
    "sumo = 0\n",
    "sumo1 = 0\n",
    "for i in range(1,unm+1):\n",
    "        sumo += i * i\n",
    "        print(f'1에서 {unm}까지의 제곱의 합:{sumo}')\n",
    "for i in range(1,unm+1):\n",
    "    sumo1 += i\n",
    "    print(f'1에서 {unm}까지 합의 제곱:{sumo1}')"
   ]
  },
  {
   "cell_type": "code",
   "execution_count": 3,
   "metadata": {},
   "outputs": [
    {
     "name": "stdout",
     "output_type": "stream",
     "text": [
      "정수를 입력하시오10\n",
      "10제곱의 합 : 1\n",
      "10제곱의 합 : 5\n",
      "10제곱의 합 : 14\n",
      "10제곱의 합 : 30\n",
      "10제곱의 합 : 55\n",
      "10제곱의 합 : 91\n",
      "10제곱의 합 : 140\n",
      "10제곱의 합 : 204\n",
      "10제곱의 합 : 285\n",
      "10제곱의 합 : 385\n",
      "10 합의 제곱: 1\n",
      "10 합의 제곱: 3\n",
      "10 합의 제곱: 6\n",
      "10 합의 제곱: 10\n",
      "10 합의 제곱: 15\n",
      "10 합의 제곱: 21\n",
      "10 합의 제곱: 28\n",
      "10 합의 제곱: 36\n",
      "10 합의 제곱: 45\n",
      "10 합의 제곱: 55\n"
     ]
    }
   ],
   "source": [
    "unm = int(input('정수를 입력하시오'))\n",
    "sumo = 0\n",
    "sumo1= 0\n",
    "for i in range(1, unm+1):\n",
    "    if i <= unm:\n",
    "        sumo += i * i\n",
    "    print(f'{unm}제곱의 합 : {sumo}')\n",
    "for i in range(1, unm+1):\n",
    "    if i <=unm:\n",
    "        sumo1 += i\n",
    "    print(f'{unm} 합의 제곱: {sumo1}')"
   ]
  },
  {
   "cell_type": "code",
   "execution_count": 6,
   "metadata": {},
   "outputs": [
    {
     "name": "stdout",
     "output_type": "stream",
     "text": [
      "31875000\n",
      "200 375 425\n"
     ]
    }
   ],
   "source": [
    "# 2번. 2 a + b + c = 1000 인 피타고라스 수를 구하시오\n",
    "#  즉, a*a + b*b = c*c 을 만족하고\n",
    "#  a < b < c 이고, a + b > c 이다.\n",
    "\n",
    "for a in range(1,333):\n",
    "    for b in range(1,500):\n",
    "        c = 1000 - a - b\n",
    "        if a**2+b**2 ==c**2:\n",
    "            print(a*b*c)\n",
    "            print(a,b,c)"
   ]
  },
  {
   "cell_type": "code",
   "execution_count": 15,
   "metadata": {},
   "outputs": [
    {
     "name": "stdout",
     "output_type": "stream",
     "text": [
      "총 29700\n"
     ]
    }
   ],
   "source": [
    "# 3\n",
    "total =0\n",
    "for ho in range(0,24):\n",
    "    for mi in range(0,60):\n",
    "        if (str(ho)+str(mi)).find('3')>=0:\n",
    "            total +=60\n",
    "print(f'총 {total}')"
   ]
  },
  {
   "cell_type": "code",
   "execution_count": null,
   "metadata": {},
   "outputs": [],
   "source": [
    "# 4 \n",
    "count = [0,0,0,0,0,0,0,0,0,0]\n",
    "\n",
    "for i in range(1,10):\n",
    "    count[i]+=1\n",
    "for i in range(10,100):\n",
    "    count[int(i/10)]+=1\n",
    "    count[i%10]+=1\n",
    "for i in range(100,1000):\n",
    "    count[int(i/100)]+=1\n",
    "    count[int((i%10)/10)]+=1\n",
    "    count[i%10]+=1\n",
    "for i in range(1000,1000):\n",
    "    count[int(i/1000)]+=1\n",
    "    count[int((i%1000)/100)]+=1\n",
    "    count[int((i%100)/10)]+=1\n",
    "    count[i%10]+=1\n",
    "    \n",
    "print(count)"
   ]
  },
  {
   "cell_type": "code",
   "execution_count": 22,
   "metadata": {},
   "outputs": [
    {
     "name": "stdout",
     "output_type": "stream",
     "text": [
      "906609\n"
     ]
    }
   ],
   "source": [
    "# 5. 세자리 수를 곱해 만들 수 있는 가장 \n",
    "# 큰 대칭수(palindrome)와 세자리 수를 구하시오.\n",
    "# 단, 대칭수는 12321과 같은 수를 의미함.\n",
    "\n",
    "lenn = []\n",
    "for i in range(100,1000):\n",
    "    for j in range(100,1000):\n",
    "        num = i*j\n",
    "        if str(num) == str(num)[::-1]:\n",
    "            lenn.append(num)\n",
    "\n",
    "print(max(lenn))"
   ]
  },
  {
   "cell_type": "code",
   "execution_count": 34,
   "metadata": {},
   "outputs": [
    {
     "name": "stdout",
     "output_type": "stream",
     "text": [
      "913 993 906609\n"
     ]
    }
   ],
   "source": [
    "maxpal = 0\n",
    "maxX=0\n",
    "maxY=0\n",
    "for i in range(100,1000):\n",
    "    for k in range(100,1000):\n",
    "        num = i*k\n",
    "        if str(num) == str(num)[::-1] and i*k>maxpal:\n",
    "            maxpal = i*k\n",
    "            maxX = i\n",
    "            maxY= k\n",
    "\n",
    "print(maxX,maxY,maxpal)"
   ]
  },
  {
   "cell_type": "code",
   "execution_count": null,
   "metadata": {},
   "outputs": [],
   "source": []
  }
 ],
 "metadata": {
  "kernelspec": {
   "display_name": "Python 3",
   "language": "python",
   "name": "python3"
  },
  "language_info": {
   "codemirror_mode": {
    "name": "ipython",
    "version": 3
   },
   "file_extension": ".py",
   "mimetype": "text/x-python",
   "name": "python",
   "nbconvert_exporter": "python",
   "pygments_lexer": "ipython3",
   "version": "3.8.3"
  }
 },
 "nbformat": 4,
 "nbformat_minor": 4
}

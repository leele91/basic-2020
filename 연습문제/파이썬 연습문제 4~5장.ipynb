{
 "cells": [
  {
   "cell_type": "markdown",
   "metadata": {},
   "source": [
    "# 파이썬 4장 1번 문제"
   ]
  },
  {
   "cell_type": "code",
   "execution_count": 20,
   "metadata": {},
   "outputs": [
    {
     "name": "stdout",
     "output_type": "stream",
     "text": [
      "too high\n"
     ]
    }
   ],
   "source": [
    "import random as rd\n",
    "secret=[]\n",
    "guess =[]\n",
    "secret.append(rd.randint(1,6))\n",
    "guess.append(rd.randint(1,6))\n",
    "if guess < secret:\n",
    "    print('too low')\n",
    "elif guess > secret:\n",
    "    print('too high')\n",
    "else:\n",
    "    print('just right')"
   ]
  },
  {
   "cell_type": "code",
   "execution_count": 162,
   "metadata": {},
   "outputs": [
    {
     "name": "stdout",
     "output_type": "stream",
     "text": [
      "watermelon\n"
     ]
    }
   ],
   "source": [
    "small = False\n",
    "green = True\n",
    "if small:\n",
    "    if green:\n",
    "        print('cherry')\n",
    "    else:\n",
    "        print('pea')\n",
    "else:\n",
    "    if green:\n",
    "        print('watermelon')\n",
    "    else:\n",
    "        print('pumpkin')"
   ]
  },
  {
   "cell_type": "code",
   "execution_count": 12,
   "metadata": {},
   "outputs": [
    {
     "ename": "TypeError",
     "evalue": "random() takes no arguments (2 given)",
     "output_type": "error",
     "traceback": [
      "\u001b[1;31m---------------------------------------------------------------------------\u001b[0m",
      "\u001b[1;31mTypeError\u001b[0m                                 Traceback (most recent call last)",
      "\u001b[1;32m<ipython-input-12-0df4370fd280>\u001b[0m in \u001b[0;36m<module>\u001b[1;34m\u001b[0m\n\u001b[1;32m----> 1\u001b[1;33m \u001b[0msecret\u001b[0m \u001b[1;33m=\u001b[0m \u001b[0mrandom\u001b[0m\u001b[1;33m.\u001b[0m\u001b[0mrandom\u001b[0m\u001b[1;33m(\u001b[0m\u001b[1;36m1\u001b[0m\u001b[1;33m,\u001b[0m\u001b[1;36m6\u001b[0m\u001b[1;33m)\u001b[0m\u001b[1;33m\u001b[0m\u001b[1;33m\u001b[0m\u001b[0m\n\u001b[0m",
      "\u001b[1;31mTypeError\u001b[0m: random() takes no arguments (2 given)"
     ]
    }
   ],
   "source": [
    "import random as rd\n",
    "x=[]\n",
    "for i in range(3):               # 행의 갯수\n",
    "    row =[]\n",
    "    for k in range(6):          #열의 갯수\n",
    "        row.append(rd.randint(1,6)) \n",
    "    x.append(row)"
   ]
  },
  {
   "cell_type": "markdown",
   "metadata": {},
   "source": [
    "# 5장 연습문제"
   ]
  },
  {
   "cell_type": "markdown",
   "metadata": {},
   "source": [
    "### 1번. m으로 시작하는 단어를 대문자로 만들어 보자"
   ]
  },
  {
   "cell_type": "code",
   "execution_count": 40,
   "metadata": {},
   "outputs": [
    {
     "name": "stdout",
     "output_type": "stream",
     "text": [
      "when an eel grabs your arM,\n",
      "    and it causes great harM,\n",
      "    That's = a Moray!\n"
     ]
    }
   ],
   "source": [
    "song = \"\"\"when an eel grabs your arm,\n",
    "    and it causes great harm,\n",
    "    That's = a moray!\"\"\".replace('m','M')\n",
    "print(song)"
   ]
  },
  {
   "cell_type": "markdown",
   "metadata": {},
   "source": [
    "### 2번. 다음과 같은 형식으로 각 리스트의 질문과 답을 차례로 출력"
   ]
  },
  {
   "cell_type": "code",
   "execution_count": 57,
   "metadata": {},
   "outputs": [
    {
     "name": "stdout",
     "output_type": "stream",
     "text": [
      "{\"We don't serve strings around here. Are you a string?\": 'An exploding sheep.', \"What is said on Father's Day in the forest?\": \"No, I'm a frayed knot.\", \"what makes the sound 'Sis! Boom! Bah!'?\": \"'Pop!' goes the weasel.\"}\n"
     ]
    }
   ],
   "source": [
    "questions = [\n",
    "    \"We don't serve strings around here. Are you a string?\",\n",
    "    \"What is said on Father's Day in the forest?\",\n",
    "    \"what makes the sound 'Sis! Boom! Bah!'?\"\n",
    "]\n",
    "answers = [\n",
    "    \"An exploding sheep.\",\n",
    "    \"No, I'm a frayed knot.\",\n",
    "    \"'Pop!' goes the weasel.\"\n",
    "]\n",
    "cy= dict(zip(questions,answers))\n",
    "print(cy)"
   ]
  },
  {
   "cell_type": "markdown",
   "metadata": {},
   "source": [
    "### 3번. 옛 스타일 포매팅을 사용하여 시를 써보자.\n",
    "### 문자열 'roast beef', 'ham', 'head', 'clam'을 \n",
    "### 아래 문자열에 대체한다."
   ]
  },
  {
   "cell_type": "code",
   "execution_count": 81,
   "metadata": {},
   "outputs": [
    {
     "data": {
      "text/plain": [
       "\"My kitty cat fell on his head And now thinks he's a clam.\""
      ]
     },
     "execution_count": 81,
     "metadata": {},
     "output_type": "execute_result"
    }
   ],
   "source": [
    "\"My kitty cat likes %s\" % 'roast beef',\n",
    "\"My kitty cat likes %s\" % 'ham',\n",
    "\"My kitty cat fell on his %s And now thinks he's a %s.\" % ('head','clam')"
   ]
  },
  {
   "cell_type": "markdown",
   "metadata": {},
   "source": [
    "### 4번. 새 스타일의 포매팅을 사용하여 메일을 써보자.\n",
    "### 다음 문자열을 letter 변수에 저장한다.\n",
    "### (다음 문제에서 이 변수를 사용)"
   ]
  },
  {
   "cell_type": "code",
   "execution_count": 100,
   "metadata": {},
   "outputs": [],
   "source": [
    "salutation = '안녕하세요.'\n",
    "name = '홍길동입니다'\n",
    "product = '제품'\n",
    "verbed = '표시'\n",
    "room = '방에'\n",
    "animals = '동물근처'\n",
    "amount = '총금액'\n",
    "percent = '90'\n",
    "spokesman = '대변인'\n",
    "job_title = '책임자'\n",
    "letter= f\"\"\"Dear {salutation} {name},\n",
    "\n",
    "Thank you for your letter. We are sorry that our {product} {verbed} in your{room}.\n",
    "please note that it should never be used in a {room}, especially near any{animals}.\n",
    "\n",
    "send us your receipt and {amount} for shipping and handling. We will send you\n",
    "another {product} that, in our tests, is {percent}% less likely to have {verbed}.\n",
    "\n",
    "Thank you for your support.\n",
    "Sincerely,{spokesman}\n",
    "{job_title}\"\"\""
   ]
  },
  {
   "cell_type": "code",
   "execution_count": null,
   "metadata": {},
   "outputs": [],
   "source": [
    "### 5번. 문자열 변수 'salutation', 'name', 'product', 'verbed'(verb의 과거)\n",
    "### 'room','animals','amount','percent','spokesman','job_title'에 값을 \n",
    "### 할당한다.\n",
    "### 문자열 변수와 letter.format()를 사용하여 메일을 출력해보자"
   ]
  },
  {
   "cell_type": "code",
   "execution_count": 101,
   "metadata": {},
   "outputs": [
    {
     "name": "stdout",
     "output_type": "stream",
     "text": [
      "Dear 안녕하세요. 홍길동입니다,\n",
      "\n",
      "Thank you for your letter. We are sorry that our 제품 표시 in your방에.\n",
      "please note that it should never be used in a 방에, especially near any동물근처.\n",
      "\n",
      "send us your receipt and 총금액 for shipping and handling. We will send you\n",
      "another 제품 that, in our tests, is 90% less likely to have 표시.\n",
      "\n",
      "Thank you for your support.\n",
      "Sincerely,대변인\n",
      "책임자\n"
     ]
    }
   ],
   "source": [
    "print(letter)"
   ]
  },
  {
   "cell_type": "code",
   "execution_count": 102,
   "metadata": {},
   "outputs": [],
   "source": [
    "### 6번. 어떤 물건에 이름을 짓는 여론 조사를 실시한 후 다음과 같은 패턴이 나타났다.\n",
    "### an English submarine 이름은 (Boaty McBoatface)로 지어졌다.\n",
    "### an Australian racehorse 이름은 (Horsey McHorseface)로 지어졌다.\n",
    "### a Swedish train 이름은 (Trainy McTrainface)로 지어졌다.\n",
    "### 문자열 'duck', 'gourd','spitz'과 %포매팅을 사용하여 위 괄호 안의 밑줄 문자열의 \n",
    "### 형식과 같이 출력해보자\n",
    "### [출력]\n",
    "### Ducky McDuckface\n",
    "### Gourdy McGourdface\n",
    "### Spitzy McSpitzface"
   ]
  },
  {
   "cell_type": "code",
   "execution_count": 158,
   "metadata": {},
   "outputs": [
    {
     "name": "stdout",
     "output_type": "stream",
     "text": [
      "Ducky McDuckface\n",
      "Gourdy McGourdface\n",
      "Spitzy McSpitzface\n"
     ]
    }
   ],
   "source": [
    "i = 'duck'\n",
    "u = 'gourd'\n",
    "p = 'spitz'\n",
    "\n",
    "print('%sy Mc%sface' % (i.capitalize(),i.capitalize()))\n",
    "print('%sy Mc%sface' % (u.capitalize(),u.capitalize()))\n",
    "print('%sy Mc%sface' % (p.capitalize(),p.capitalize()))"
   ]
  },
  {
   "cell_type": "code",
   "execution_count": 132,
   "metadata": {},
   "outputs": [],
   "source": [
    "# 7번. format()메서드를 사용하여 문제 5.6을 풀어본다"
   ]
  },
  {
   "cell_type": "code",
   "execution_count": 160,
   "metadata": {},
   "outputs": [
    {
     "name": "stdout",
     "output_type": "stream",
     "text": [
      "Ducky McDuckface\n",
      "Gourdy McGourdface\n",
      "Spitzy McSpitzface\n"
     ]
    }
   ],
   "source": [
    "i = 'duck'\n",
    "u = 'gourd'\n",
    "p = 'spitz'\n",
    "\n",
    "print('{0}y Mc{1}face'.format(i.capitalize(),i.capitalize()))\n",
    "print('{0}y Mc{1}face'.format(u.capitalize(),u.capitalize()))\n",
    "print('{0}y Mc{1}face'.format(p.capitalize(),p.capitalize()))"
   ]
  },
  {
   "cell_type": "code",
   "execution_count": null,
   "metadata": {},
   "outputs": [],
   "source": [
    "# 8번. f-문자열을 사용하여 문제 5.6을 풀어본다."
   ]
  },
  {
   "cell_type": "code",
   "execution_count": 149,
   "metadata": {},
   "outputs": [
    {
     "name": "stdout",
     "output_type": "stream",
     "text": [
      "Ducky McDuckface\n",
      "Gourdy McGourdface\n",
      "Spitzy McSpitzface\n"
     ]
    }
   ],
   "source": [
    "duck= 'duck'\n",
    "gourd= 'gourd'\n",
    "spitz= 'spitz'\n",
    "\n",
    "print(f'{duck.capitalize()}y Mc{duck.capitalize()}face')\n",
    "print(f'{gourd.capitalize()}y Mc{gourd.capitalize()}face')\n",
    "print(f'{spitz.capitalize()}y Mc{spitz.capitalize()}face')"
   ]
  },
  {
   "cell_type": "code",
   "execution_count": null,
   "metadata": {},
   "outputs": [],
   "source": []
  }
 ],
 "metadata": {
  "kernelspec": {
   "display_name": "Python 3",
   "language": "python",
   "name": "python3"
  },
  "language_info": {
   "codemirror_mode": {
    "name": "ipython",
    "version": 3
   },
   "file_extension": ".py",
   "mimetype": "text/x-python",
   "name": "python",
   "nbconvert_exporter": "python",
   "pygments_lexer": "ipython3",
   "version": "3.8.3"
  }
 },
 "nbformat": 4,
 "nbformat_minor": 4
}

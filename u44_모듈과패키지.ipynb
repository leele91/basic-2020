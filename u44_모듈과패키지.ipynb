{
 "metadata": {
  "language_info": {
   "codemirror_mode": {
    "name": "ipython",
    "version": 3
   },
   "file_extension": ".py",
   "mimetype": "text/x-python",
   "name": "python",
   "nbconvert_exporter": "python",
   "pygments_lexer": "ipython3",
   "version": "3.8.3-final"
  },
  "orig_nbformat": 2,
  "kernelspec": {
   "name": "Python 3.8.3 64-bit (conda)",
   "display_name": "Python 3.8.3 64-bit (conda)",
   "metadata": {
    "interpreter": {
     "hash": "b3ba2566441a7c06988d0923437866b63cedc61552a5af99d1f4fb67d367b25f"
    }
   }
  }
 },
 "nbformat": 4,
 "nbformat_minor": 2,
 "cells": [
  {
   "source": [
    "# Unit 44. 모듈과 패키지 사용"
   ],
   "cell_type": "markdown",
   "metadata": {}
  },
  {
   "source": [
    "### import로 모듈 가져오기\n",
    "- import 모듈\n",
    "- import 모듈1, 모듈2\n",
    "- 모듈.변수\n",
    "- 모듈.함수()\n",
    "- 모듈.클래스()"
   ],
   "cell_type": "markdown",
   "metadata": {}
  },
  {
   "cell_type": "code",
   "execution_count": 1,
   "metadata": {},
   "outputs": [
    {
     "output_type": "execute_result",
     "data": {
      "text/plain": [
       "3.141592653589793"
      ]
     },
     "metadata": {},
     "execution_count": 1
    }
   ],
   "source": [
    "import math\n",
    "math.pi # pi : 상수로 값이 들어가있는 변수"
   ]
  },
  {
   "cell_type": "code",
   "execution_count": 2,
   "metadata": {},
   "outputs": [
    {
     "output_type": "execute_result",
     "data": {
      "text/plain": [
       "2.0"
      ]
     },
     "metadata": {},
     "execution_count": 2
    }
   ],
   "source": [
    "math.sqrt(4.0) # sqrt : 제곱근 함수"
   ]
  },
  {
   "cell_type": "code",
   "execution_count": 4,
   "metadata": {},
   "outputs": [
    {
     "output_type": "execute_result",
     "data": {
      "text/plain": [
       "(3.141592653589793, 2.0)"
      ]
     },
     "metadata": {},
     "execution_count": 4
    }
   ],
   "source": [
    "import math as m\n",
    "m.pi, m.sqrt(4.0)"
   ]
  },
  {
   "source": [
    "### from import로 모듈의 일부만 가져오기\n",
    "- from 모듈 import 변수\n"
   ],
   "cell_type": "markdown",
   "metadata": {}
  },
  {
   "cell_type": "code",
   "execution_count": 8,
   "metadata": {},
   "outputs": [
    {
     "output_type": "execute_result",
     "data": {
      "text/plain": [
       "(3.141592653589793, 2.0)"
      ]
     },
     "metadata": {},
     "execution_count": 8
    }
   ],
   "source": [
    "from math import pi, sqrt\n",
    "pi, sqrt(4.0)"
   ]
  },
  {
   "cell_type": "code",
   "execution_count": 9,
   "metadata": {},
   "outputs": [
    {
     "output_type": "execute_result",
     "data": {
      "text/plain": [
       "(1.0, 0.0, -2.4492935982947064e-16)"
      ]
     },
     "metadata": {},
     "execution_count": 9
    }
   ],
   "source": [
    "# 모든 함수를 가져옴\n",
    "from math import * \n",
    "exp(0), log(1), sin(2*pi) #sin"
   ]
  },
  {
   "source": [
    "### import로 패키지 가져오기\n",
    "- import 패키지.모듈\n",
    "- import 패키지.모듈1, 패키지.모듈2\n",
    "- 패키지.모듈.변수\n",
    "- 패키지.모듈.함수()\n",
    "- 패키지.모듈.클래스()"
   ],
   "cell_type": "markdown",
   "metadata": {}
  },
  {
   "cell_type": "code",
   "execution_count": 10,
   "metadata": {},
   "outputs": [
    {
     "output_type": "execute_result",
     "data": {
      "text/plain": [
       "200"
      ]
     },
     "metadata": {},
     "execution_count": 10
    }
   ],
   "source": [
    "import urllib.request #urllib패키지 안에 있는 함수\n",
    "response = urllib.request.urlopen('http://www.google.co.kr')\n",
    "response.status"
   ]
  },
  {
   "cell_type": "code",
   "execution_count": 13,
   "metadata": {},
   "outputs": [
    {
     "output_type": "execute_result",
     "data": {
      "text/plain": [
       "200"
      ]
     },
     "metadata": {},
     "execution_count": 13
    }
   ],
   "source": [
    "import urllib.request as r\n",
    "response = r.urlopen('http://www.google.co.kr')\n",
    "response.status"
   ]
  },
  {
   "source": [
    "### from import로 패키지의 모듈에서 일부만 가져오기\n",
    "- from 패키지.모듈 import 변수\n",
    "- from 패키지.모듈 import 함수\n",
    "- from 패키지.모듈 import 클래스\n",
    "- from 패키지.모듈 import 변수, 함수, 클래스"
   ],
   "cell_type": "markdown",
   "metadata": {}
  },
  {
   "cell_type": "code",
   "execution_count": 14,
   "metadata": {},
   "outputs": [
    {
     "output_type": "execute_result",
     "data": {
      "text/plain": [
       "200"
      ]
     },
     "metadata": {},
     "execution_count": 14
    }
   ],
   "source": [
    "from urllib.request import Request, urlopen\n",
    "req = Request('http://www.google.co.kr')       # Request 클래스를 사용하여 req 생성\n",
    "response = urlopen(req)                        # urlopen 함수 사용\n",
    "response.status"
   ]
  },
  {
   "cell_type": "code",
   "execution_count": 15,
   "metadata": {},
   "outputs": [
    {
     "output_type": "execute_result",
     "data": {
      "text/plain": [
       "200"
      ]
     },
     "metadata": {},
     "execution_count": 15
    }
   ],
   "source": [
    "from urllib.request import * #http같은 모듈\n",
    "req = Request('http://www.google.co.kr')       \n",
    "response = urlopen(req)                        \n",
    "response.status"
   ]
  },
  {
   "cell_type": "code",
   "execution_count": 16,
   "metadata": {},
   "outputs": [],
   "source": [
    "### 파이썬 패키지 인덱스에서 패키지 설치"
   ]
  },
  {
   "source": [
    "import requests # 익스프레소 모듈\n",
    "url = 'http://www.melon.com/chart/week/index.htm?classCd=GN0100'\n",
    "header = {'User-Agent': 'Mozilla/5.0 (Windows NT 6.3; Trident/7.0; rv:11.0) like Gecko'}\n",
    "req = requests.get(url, headers = header)\n",
    "html = req.text"
   ],
   "cell_type": "markdown",
   "metadata": {}
  },
  {
   "source": [
    "print(html)"
   ],
   "cell_type": "markdown",
   "metadata": {
    "tags": [
     "outputPrepend"
    ]
   }
  },
  {
   "source": [
    "### 연습문제: 소수점 이하 올림, 버림 구하기"
   ],
   "cell_type": "markdown",
   "metadata": {}
  },
  {
   "cell_type": "code",
   "execution_count": 26,
   "metadata": {},
   "outputs": [
    {
     "output_type": "stream",
     "name": "stdout",
     "text": [
      "2 1\n"
     ]
    }
   ],
   "source": [
    "from math import ceil, floor\n",
    "x = 1.5\n",
    "print(ceil(x), floor(x))"
   ]
  },
  {
   "cell_type": "code",
   "execution_count": 28,
   "metadata": {},
   "outputs": [
    {
     "output_type": "stream",
     "name": "stdout",
     "text": [
      "19.634954084936208\n"
     ]
    }
   ],
   "source": [
    "### 표준 입력으로 원의 반지름(실수)이 입력됩니다. 입력된 반지름을 이용하여 원의 넓이를 ### 출력하는 프로그램을 만드세요(input에서 안내 문자열은 출력하지 않아야 합니다). 원의 ### 넓이는 반지름 * 반지름 * 원주율로 구합니다.\n",
    "\n",
    "from math import pi\n",
    "x= float(input())\n",
    "print(x*x*math.pi)\n"
   ]
  },
  {
   "cell_type": "code",
   "execution_count": null,
   "metadata": {},
   "outputs": [],
   "source": []
  }
 ]
}